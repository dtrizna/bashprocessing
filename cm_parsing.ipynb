{
 "metadata": {
  "language_info": {
   "codemirror_mode": {
    "name": "ipython",
    "version": 3
   },
   "file_extension": ".py",
   "mimetype": "text/x-python",
   "name": "python",
   "nbconvert_exporter": "python",
   "pygments_lexer": "ipython3",
   "version": "3.8.2-final"
  },
  "orig_nbformat": 2,
  "kernelspec": {
   "name": "python_defaultSpec_1600247863987",
   "display_name": "Python 3.7.8 64-bit"
  }
 },
 "nbformat": 4,
 "nbformat_minor": 2,
 "cells": [
  {
   "cell_type": "code",
   "execution_count": 2,
   "metadata": {},
   "outputs": [],
   "source": [
    "import bashlex # parsing library #1\n",
    "import bashlint # parsing library #2\n",
    "from collections import Counter, OrderedDict\n",
    "from pprint import pprint\n",
    "import re"
   ]
  },
  {
   "cell_type": "code",
   "execution_count": 3,
   "metadata": {},
   "outputs": [],
   "source": [
    "with open(r'all.cm', encoding='utf-8') as f:\n",
    "    data = f.readlines()"
   ]
  },
  {
   "cell_type": "markdown",
   "metadata": {},
   "source": [
    "## Playing with `bashlex` functions"
   ]
  },
  {
   "cell_type": "code",
   "execution_count": 4,
   "metadata": {},
   "outputs": [
    {
     "output_type": "execute_result",
     "data": {
      "text/plain": "['__builtins__',\n '__cached__',\n '__doc__',\n '__file__',\n '__loader__',\n '__name__',\n '__package__',\n '__path__',\n '__spec__',\n 'ast',\n 'errors',\n 'flags',\n 'heredoc',\n 'parse',\n 'parser',\n 'parsesingle',\n 'parsetab',\n 'shutils',\n 'split',\n 'state',\n 'subst',\n 'tokenizer',\n 'utils',\n 'yacc']"
     },
     "metadata": {},
     "execution_count": 4
    }
   ],
   "source": [
    "dir(bashlex)"
   ]
  },
  {
   "cell_type": "code",
   "execution_count": 5,
   "metadata": {
    "tags": []
   },
   "outputs": [
    {
     "output_type": "stream",
     "name": "stdout",
     "text": "top -b -d2 -s1 | sed -e '1,/USERNAME/d' | sed -e '1,/^$/d'\n\n['top', '-b', '-d2', '-s1', '|', 'sed', '-e', '1,/USERNAME/d', '|', 'sed', '-e', '1,/^$/d', '\\n']\n"
    }
   ],
   "source": [
    "print(data[0])\n",
    "print(list(bashlex.split(data[0]))) # splitting first command to elements"
   ]
  },
  {
   "cell_type": "code",
   "execution_count": 6,
   "metadata": {
    "tags": []
   },
   "outputs": [
    {
     "output_type": "stream",
     "name": "stdout",
     "text": "<class 'list'>\n"
    },
    {
     "output_type": "execute_result",
     "data": {
      "text/plain": "1"
     },
     "metadata": {},
     "execution_count": 6
    }
   ],
   "source": [
    "tp = bashlex.parse(data[0]) # parsing first command \n",
    "print(type(tp))\n",
    "len(tp)"
   ]
  },
  {
   "cell_type": "code",
   "execution_count": 7,
   "metadata": {
    "tags": []
   },
   "outputs": [
    {
     "output_type": "stream",
     "name": "stdout",
     "text": "<class 'bashlex.ast.node'>\n"
    },
    {
     "output_type": "execute_result",
     "data": {
      "text/plain": "PipelineNode(parts=[CommandNode(parts=[WordNode(parts=[] pos=(0, 3) word='top'), WordNode(parts=[] pos=(4, 6) word='-b'), WordNode(parts=[] pos=(7, 10) word='-d2'), WordNode(parts=[] pos=(11, 14) word='-s1')] pos=(0, 14)), PipeNode(pipe='|' pos=(15, 16)), CommandNode(parts=[WordNode(parts=[] pos=(17, 20) word='sed'), WordNode(parts=[] pos=(21, 23) word='-e'), WordNode(parts=[] pos=(24, 39) word='1,/USERNAME/d')] pos=(17, 39)), PipeNode(pipe='|' pos=(40, 41)), CommandNode(parts=[WordNode(parts=[] pos=(42, 45) word='sed'), WordNode(parts=[] pos=(46, 48) word='-e'), WordNode(parts=[] pos=(49, 58) word='1,/^$/d')] pos=(42, 58))] pos=(0, 58))"
     },
     "metadata": {},
     "execution_count": 7
    }
   ],
   "source": [
    "print(type(tp[0]))\n",
    "tp[0]"
   ]
  },
  {
   "cell_type": "code",
   "execution_count": 8,
   "metadata": {
    "tags": []
   },
   "outputs": [
    {
     "output_type": "execute_result",
     "data": {
      "text/plain": "['__weakref__', 'dump', 'kind', 'parts', 'pos']"
     },
     "metadata": {},
     "execution_count": 8
    }
   ],
   "source": [
    "dir(tp[0])[-5:] # only few methods"
   ]
  },
  {
   "cell_type": "code",
   "execution_count": 9,
   "metadata": {
    "tags": []
   },
   "outputs": [
    {
     "output_type": "stream",
     "name": "stdout",
     "text": "PipelineNode(pos=(0, 58), parts=[\n  CommandNode(pos=(0, 14), parts=[\n    WordNode(pos=(0, 3), word='top'),\n    WordNode(pos=(4, 6), word='-b'),\n    WordNode(pos=(7, 10), word='-d2'),\n    WordNode(pos=(11, 14), word='-s1'),\n  ]),\n  PipeNode(pipe='|', pos=(15, 16)),\n  CommandNode(pos=(17, 39), parts=[\n    WordNode(pos=(17, 20), word='sed'),\n    WordNode(pos=(21, 23), word='-e'),\n    WordNode(pos=(24, 39), word='1,/USERNAME/d'),\n  ]),\n  PipeNode(pipe='|', pos=(40, 41)),\n  CommandNode(pos=(42, 58), parts=[\n    WordNode(pos=(42, 45), word='sed'),\n    WordNode(pos=(46, 48), word='-e'),\n    WordNode(pos=(49, 58), word='1,/^$/d'),\n  ]),\n])\n"
    }
   ],
   "source": [
    "print(tp[0].dump()) # dump allows to observe parts in pretty way"
   ]
  },
  {
   "cell_type": "markdown",
   "metadata": {},
   "source": [
    "`CommandNode` - have set of specific command elements  \n",
    "`PipeNode` - separators  \n",
    "`WordNode` - element of CommandNode"
   ]
  },
  {
   "cell_type": "code",
   "execution_count": 10,
   "metadata": {
    "tags": []
   },
   "outputs": [
    {
     "output_type": "stream",
     "name": "stdout",
     "text": "[CommandNode(parts=[WordNode(parts=[] pos=(0, 3) word='top'), WordNode(parts=[] pos=(4, 6) word='-b'), WordNode(parts=[] pos=(7, 10) word='-d2'), WordNode(parts=[] pos=(11, 14) word='-s1')] pos=(0, 14)), PipeNode(pipe='|' pos=(15, 16)), CommandNode(parts=[WordNode(parts=[] pos=(17, 20) word='sed'), WordNode(parts=[] pos=(21, 23) word='-e'), WordNode(parts=[] pos=(24, 39) word='1,/USERNAME/d')] pos=(17, 39)), PipeNode(pipe='|' pos=(40, 41)), CommandNode(parts=[WordNode(parts=[] pos=(42, 45) word='sed'), WordNode(parts=[] pos=(46, 48) word='-e'), WordNode(parts=[] pos=(49, 58) word='1,/^$/d')] pos=(42, 58))]\n"
    },
    {
     "output_type": "execute_result",
     "data": {
      "text/plain": "(0, 58)"
     },
     "metadata": {},
     "execution_count": 10
    }
   ],
   "source": [
    "print(tp[0].parts) # returns all the pipeline parts in list\n",
    "tp[0].pos # displays position of this specific element in original string"
   ]
  },
  {
   "cell_type": "code",
   "execution_count": 11,
   "metadata": {
    "tags": []
   },
   "outputs": [
    {
     "output_type": "stream",
     "name": "stdout",
     "text": "for a in `find . -name '*.py'` ; do cp \"$a\" \"$a.cp\" ; echo \"Added line\" > \"$a\" ; cat \"$a.cp\" >> \"$a\" ; rm \"$a.cp\" ; done\n\n"
    },
    {
     "output_type": "execute_result",
     "data": {
      "text/plain": "['for',\n 'a',\n 'in',\n \"`find . -name '*.py'`\",\n ';',\n 'do',\n 'cp',\n '$a',\n '$a.cp',\n ';',\n 'echo',\n 'Added line',\n '>',\n '$a',\n ';',\n 'cat',\n '$a.cp',\n '>>',\n '$a',\n ';',\n 'rm',\n '$a.cp',\n ';',\n 'done',\n '\\n']"
     },
     "metadata": {},
     "execution_count": 11
    }
   ],
   "source": [
    "print(data[48]) # test on more complex command\n",
    "\n",
    "list(bashlex.split(data[48]))"
   ]
  },
  {
   "cell_type": "code",
   "execution_count": 12,
   "metadata": {
    "tags": []
   },
   "outputs": [
    {
     "output_type": "stream",
     "name": "stdout",
     "text": "1\n"
    }
   ],
   "source": [
    "tp2 = bashlex.parse(data[48])\n",
    "print(len(tp2))"
   ]
  },
  {
   "cell_type": "code",
   "execution_count": 13,
   "metadata": {
    "tags": []
   },
   "outputs": [
    {
     "output_type": "stream",
     "name": "stdout",
     "text": "ForNode(pos=(0, 120), parts=[\n  ReservedwordNode(pos=(0, 3), word='for'),\n  WordNode(pos=(4, 5), word='a'),\n  ReservedwordNode(pos=(6, 8), word='in'),\n  WordNode(pos=(9, 30), word=\"`find . -name '*.py'`\", parts=[\n    CommandsubstitutionNode(command=\n      CommandNode(pos=(10, 29), parts=[\n        WordNode(pos=(10, 14), word='find'),\n        WordNode(pos=(15, 16), word='.'),\n        WordNode(pos=(17, 22), word='-name'),\n        WordNode(pos=(23, 29), word='*.py'),\n      ]), pos=(9, 30)),\n  ]),\n  ReservedwordNode(pos=(31, 32), word=';'),\n  ReservedwordNode(pos=(33, 35), word='do'),\n  ListNode(pos=(36, 115), parts=[\n      CommandNode(pos=(36, 51), parts=[\n        WordNode(pos=(36, 38), word='cp'),\n        WordNode(pos=(39, 43), word='$a', parts=[\n          ParameterNode(pos=(40, 42), value='a'),\n        ]),\n        WordNode(pos=(44, 51), word='$a.cp', parts=[\n          ParameterNode(pos=(45, 47), value='a'),\n        ]),\n      ]),\n      OperatorNode(op=';', pos=(52, 53)),\n      CommandNode(pos=(54, 78), parts=[\n        WordNode(pos=(54, 58), word='echo'),\n        WordNode(pos=(59, 71), word='Added line'),\n        RedirectNode(output=\n          WordNode(pos=(74, 78), word='$a', parts=[\n            ParameterNode(pos=(75, 77), value='a'),\n          ]), pos=(72, 78), type='>'),\n      ]),\n      OperatorNode(op=';', pos=(79, 80)),\n      CommandNode(pos=(81, 100), parts=[\n        WordNode(pos=(81, 84), word='cat'),\n        WordNode(pos=(85, 92), word='$a.cp', parts=[\n          ParameterNode(pos=(86, 88), value='a'),\n        ]),\n        RedirectNode(output=\n          WordNode(pos=(96, 100), word='$a', parts=[\n            ParameterNode(pos=(97, 99), value='a'),\n          ]), pos=(93, 100), type='>>'),\n      ]),\n      OperatorNode(op=';', pos=(101, 102)),\n      CommandNode(pos=(103, 113), parts=[\n        WordNode(pos=(103, 105), word='rm'),\n        WordNode(pos=(106, 113), word='$a.cp', parts=[\n          ParameterNode(pos=(107, 109), value='a'),\n        ]),\n      ]),\n      OperatorNode(op=';', pos=(114, 115)),\n    ]),\n  ReservedwordNode(pos=(116, 120), word='done'),\n])\n"
    }
   ],
   "source": [
    "print(tp2[0].list[0].dump())"
   ]
  },
  {
   "cell_type": "code",
   "execution_count": 14,
   "metadata": {
    "tags": []
   },
   "outputs": [
    {
     "output_type": "stream",
     "name": "stdout",
     "text": "True\nTrue\n"
    }
   ],
   "source": [
    "print(isinstance(tp2,(list,dict))) # check of isinstance\n",
    "print(isinstance(tp2[0],(bashlex.ast.node)))"
   ]
  },
  {
   "cell_type": "code",
   "execution_count": 15,
   "metadata": {},
   "outputs": [
    {
     "output_type": "execute_result",
     "data": {
      "text/plain": "[ForNode(parts=[ReservedwordNode(pos=(0, 3) word='for'), WordNode(parts=[] pos=(4, 5) word='a'), ReservedwordNode(pos=(6, 8) word='in'), WordNode(parts=[CommandsubstitutionNode(command=CommandNode(parts=[WordNode(parts=[] pos=(10, 14) word='find'), WordNode(parts=[] pos=(15, 16) word='.'), WordNode(parts=[] pos=(17, 22) word='-name'), WordNode(parts=[] pos=(23, 29) word='*.py')] pos=(10, 29)) pos=(9, 30))] pos=(9, 30) word=\"`find . -name '*.py'`\"), ReservedwordNode(pos=(31, 32) word=';'), ReservedwordNode(pos=(33, 35) word='do'), ListNode(parts=[CommandNode(parts=[WordNode(parts=[] pos=(36, 38) word='cp'), WordNode(parts=[ParameterNode(pos=(40, 42) value='a')] pos=(39, 43) word='$a'), WordNode(parts=[ParameterNode(pos=(45, 47) value='a')] pos=(44, 51) word='$a.cp')] pos=(36, 51)), OperatorNode(op=';' pos=(52, 53)), CommandNode(parts=[WordNode(parts=[] pos=(54, 58) word='echo'), WordNode(parts=[] pos=(59, 71) word='Added line'), RedirectNode(heredoc=None input=None output=WordNode(parts=[ParameterNode(pos=(75, 77) value='a')] pos=(74, 78) word='$a') pos=(72, 78) type='>')] pos=(54, 78)), OperatorNode(op=';' pos=(79, 80)), CommandNode(parts=[WordNode(parts=[] pos=(81, 84) word='cat'), WordNode(parts=[ParameterNode(pos=(86, 88) value='a')] pos=(85, 92) word='$a.cp'), RedirectNode(heredoc=None input=None output=WordNode(parts=[ParameterNode(pos=(97, 99) value='a')] pos=(96, 100) word='$a') pos=(93, 100) type='>>')] pos=(81, 100)), OperatorNode(op=';' pos=(101, 102)), CommandNode(parts=[WordNode(parts=[] pos=(103, 105) word='rm'), WordNode(parts=[ParameterNode(pos=(107, 109) value='a')] pos=(106, 113) word='$a.cp')] pos=(103, 113)), OperatorNode(op=';' pos=(114, 115))] pos=(36, 115)), ReservedwordNode(pos=(116, 120) word='done')] pos=(0, 120))]"
     },
     "metadata": {},
     "execution_count": 15
    }
   ],
   "source": [
    "tp2[0].list"
   ]
  },
  {
   "cell_type": "markdown",
   "metadata": {},
   "source": [
    "### Iterate until get all basic elements\n",
    "\n",
    "Output of `bashlex.parse()` is list.  \n",
    "List has elements of `bashlex.ast.node` which may have either `list`, `parts` or `command` properties (at least figured those two by now) that contain next elements."
   ]
  },
  {
   "cell_type": "code",
   "execution_count": 16,
   "metadata": {
    "tags": []
   },
   "outputs": [],
   "source": [
    "def iterate_bashlex(input_object):\n",
    "    output = Counter()\n",
    "    if isinstance(input_object, list):\n",
    "        for element in input_object:\n",
    "            output += iterate_bashlex(element)\n",
    "    elif isinstance(input_object, bashlex.ast.node):\n",
    "        object_methods = [x for x in dir(input_object) if '__' not in x]\n",
    "        if 'command' in object_methods:\n",
    "            output += iterate_bashlex(input_object.command)\n",
    "        elif 'list' in object_methods:\n",
    "            for element in input_object.list:\n",
    "                output += iterate_bashlex(element)\n",
    "        elif 'parts' in object_methods:        \n",
    "            if input_object.parts:\n",
    "                for part in input_object.parts:\n",
    "                    output += iterate_bashlex(part)\n",
    "            else:\n",
    "                output[input_object.word] += 1\n",
    "        elif 'word' in object_methods:\n",
    "            output[input_object.word] += 1\n",
    "    return output"
   ]
  },
  {
   "cell_type": "code",
   "execution_count": 17,
   "metadata": {
    "tags": []
   },
   "outputs": [
    {
     "output_type": "stream",
     "name": "stdout",
     "text": "Counter({'for': 1, 'a': 1, 'in': 1, 'find': 1, '.': 1, '-name': 1, '*.py': 1, ';': 1, 'do': 1, 'cp': 1, 'echo': 1, 'Added line': 1, 'cat': 1, 'rm': 1, 'done': 1})\n"
    }
   ],
   "source": [
    "for nodes in tp2:\n",
    "    token_dict = iterate_bashlex(nodes)\n",
    "print(token_dict)"
   ]
  },
  {
   "cell_type": "markdown",
   "metadata": {},
   "source": [
    "### Testing on full corpus"
   ]
  },
  {
   "cell_type": "code",
   "execution_count": 18,
   "metadata": {
    "tags": []
   },
   "outputs": [
    {
     "output_type": "stream",
     "name": "stdout",
     "text": "{'top': 10, '-b': 5, '-d2': 1, '-s1': 1, 'sed': 4, '-e': 2, '1,/USERNAME/d': 1, '1,/^$/d': 1, '-n': 4, '1': 2, '-u': 1, 'abc': 1, 'awk': 3, 'NR>7 { sum += $9; } END { print sum; }': 1, '-d': 1, '5': 1, '2': 1, '$1 == \"PID\" {block_num++; next} block_num == 2 {sum += $9;} END {print sum}': 1, '-bn1': 3, 'grep': 3, 'zombie': 2, '/Cpu/p': 1, '{print $4\" \"$6\" \"$8\" \"$10}': 1, '-n1': 3, '-c': 1, 'processname': 1, 's/\\\\(.*\\\\)$/\\\\1__CUSTOM_LINE_MARKER/g': 1}\n"
    }
   ],
   "source": [
    "# testing bashlex functions with lists\n",
    "alldict = Counter()\n",
    "for command in data[0:10]:\n",
    "    for node in bashlex.parse(command):\n",
    "        alldict += iterate_bashlex(node)\n",
    "print(dict(alldict))"
   ]
  },
  {
   "cell_type": "code",
   "execution_count": 19,
   "metadata": {
    "tags": []
   },
   "outputs": [
    {
     "output_type": "stream",
     "name": "stdout",
     "text": "Parsing errors encountered on 1.01 % of data.\n"
    }
   ],
   "source": [
    "# trying on all data\n",
    "alldict = Counter()\n",
    "errors = 0\n",
    "for i,command in enumerate(data):\n",
    "    print(f'{i}/{len(data)}',end='\\r')\n",
    "    try:\n",
    "        for node in bashlex.parse(command):\n",
    "            alldict += iterate_bashlex(node)\n",
    "    except bashlex.errors.ParsingError as ex:\n",
    "        #print(command, ex)\n",
    "        errors += 1\n",
    "    except NotImplementedError as ex:\n",
    "        #print(command, ex)\n",
    "        errors += 1\n",
    "    except TypeError as ex:\n",
    "        #print(command, ex)\n",
    "        errors += 1\n",
    "\n",
    "print(f'Parsing errors encountered on {errors*100/len(data):.2f} % of data.')"
   ]
  },
  {
   "cell_type": "code",
   "execution_count": 20,
   "metadata": {},
   "outputs": [
    {
     "output_type": "execute_result",
     "data": {
      "text/plain": "8724"
     },
     "metadata": {},
     "execution_count": 20
    }
   ],
   "source": [
    "# unique elements\n",
    "len(alldict)"
   ]
  },
  {
   "cell_type": "code",
   "execution_count": 21,
   "metadata": {
    "tags": []
   },
   "outputs": [
    {
     "output_type": "stream",
     "name": "stdout",
     "text": "1950\n1074\n"
    }
   ],
   "source": [
    "# only ~2k unique elements appear more than 3 times\n",
    "print(len({k:v for k,v in alldict.items() if v >= 3})) \n",
    "# only ~1k unique elements appear more than 5 times\n",
    "print(len({k:v for k,v in alldict.items() if v >= 5})) "
   ]
  },
  {
   "cell_type": "code",
   "execution_count": 22,
   "metadata": {},
   "outputs": [
    {
     "output_type": "execute_result",
     "data": {
      "text/plain": "[('find', 7747),\n ('.', 3728),\n ('-name', 3563),\n ('-type', 3354),\n ('f', 2438),\n ('{}', 2274),\n ('-exec', 2086),\n (';', 1823),\n ('xargs', 1523),\n ('grep', 1333),\n ('-print', 927),\n ('d', 848),\n ('/', 778),\n ('1', 740),\n ('-print0', 725),\n ('sort', 704),\n ('-o', 667),\n ('-l', 655),\n ('sed', 611),\n ('rm', 611)]"
     },
     "metadata": {},
     "execution_count": 22
    }
   ],
   "source": [
    "# 20 elements with highest counts\n",
    "alldict.most_common(20)"
   ]
  },
  {
   "source": [
    "## Investigating parsin errors\n",
    "\n",
    "Around ~5k of Counter() elements appears only once - this means that they're large parts of original dataset w/ poor parsing..."
   ],
   "cell_type": "markdown",
   "metadata": {}
  },
  {
   "cell_type": "code",
   "execution_count": 23,
   "metadata": {
    "tags": []
   },
   "outputs": [
    {
     "output_type": "stream",
     "name": "stdout",
     "text": "5204\n"
    }
   ],
   "source": [
    "print(len({k:v for k,v in alldict.items() if v == 1})) "
   ]
  },
  {
   "source": [
    "Investigating specific examples of poorly parsed commands.."
   ],
   "cell_type": "markdown",
   "metadata": {}
  },
  {
   "cell_type": "code",
   "execution_count": 24,
   "metadata": {},
   "outputs": [
    {
     "output_type": "execute_result",
     "data": {
      "text/plain": "[('\"{\" \"\\\\C-v{}\\\\ei\"', 1),\n ('vi-insert', 1),\n ('attrib', 1),\n ('inotifywait', 1),\n ('\\\\./[a-f0-9\\\\-]{36}\\\\.jpg', 1),\n (\"unzip -c %p | grep -q '<stringWithOrWithoutSpacesToFind>' && echo %pn\", 1),\n ('#*', 1),\n ('/ /_/', 1),\n ('-Rd', 1),\n ('4444', 1),\n ('10022', 1),\n ('/^[[:space:]]*$/d', 1),\n ('HOST', 1),\n ('ForwardAgent=yes', 1),\n ('IdentitiesOnly=yes', 1),\n ('LogLevel=FATAL', 1),\n ('DSAAuthentication=yes', 1),\n ('Compression=yes', 1),\n ('vagrant@127.0.0.1', 1)]"
     },
     "metadata": {},
     "execution_count": 24
    }
   ],
   "source": [
    "# 20 least common\n",
    "alldict.most_common()[:-20:-1]"
   ]
  },
  {
   "source": [
    "Right away it's sen that algorithm does poorly on identifying flags and their parameters separated by `=` sign."
   ],
   "cell_type": "markdown",
   "metadata": {}
  },
  {
   "cell_type": "code",
   "execution_count": 25,
   "metadata": {},
   "outputs": [
    {
     "output_type": "execute_result",
     "data": {
      "text/plain": "'ssh vagrant@127.0.0.1 -p 2222 -o Compression=yes -o DSAAuthentication=yes -o LogLevel=FATAL -o StrictHostKeyChecking=no -o UserKnownHostsFile=/dev/null -o IdentitiesOnly=yes -i ~/.vagrant.d/less_insecure_private_key -o ForwardAgent=yes\\n'"
     },
     "metadata": {},
     "execution_count": 25
    }
   ],
   "source": [
    "bad_example = [x for x in data if 'LogLevel=FATAL' in x][0]\n",
    "be = bashlex.parse(bad_example)\n",
    "bad_example"
   ]
  },
  {
   "cell_type": "code",
   "execution_count": 26,
   "metadata": {
    "tags": []
   },
   "outputs": [
    {
     "output_type": "stream",
     "name": "stdout",
     "text": "1\nCommandNode(pos=(0, 235), parts=[\n  WordNode(pos=(0, 3), word='ssh'),\n  WordNode(pos=(4, 21), word='vagrant@127.0.0.1'),\n  WordNode(pos=(22, 24), word='-p'),\n  WordNode(pos=(25, 29), word='2222'),\n  WordNode(pos=(30, 32), word='-o'),\n  WordNode(pos=(33, 48), word='Compression=yes'),\n  WordNode(pos=(49, 51), word='-o'),\n  WordNode(pos=(52, 73), word='DSAAuthentication=yes'),\n  WordNode(pos=(74, 76), word='-o'),\n  WordNode(pos=(77, 91), word='LogLevel=FATAL'),\n  WordNode(pos=(92, 94), word='-o'),\n  WordNode(pos=(95, 119), word='StrictHostKeyChecking=no'),\n  WordNode(pos=(120, 122), word='-o'),\n  WordNode(pos=(123, 151), word='UserKnownHostsFile=/dev/null'),\n  WordNode(pos=(152, 154), word='-o'),\n  WordNode(pos=(155, 173), word='IdentitiesOnly=yes'),\n  WordNode(pos=(174, 176), word='-i'),\n  WordNode(pos=(177, 215), word='~/.vagrant.d/less_insecure_private_key', parts=[\n    TildeNode(pos=(177, 178), value='~'),\n  ]),\n  WordNode(pos=(216, 218), word='-o'),\n  WordNode(pos=(219, 235), word='ForwardAgent=yes'),\n])\n"
    }
   ],
   "source": [
    "print(len(be))\n",
    "print(be[0].dump())"
   ]
  },
  {
   "source": [
    "Indeed flags are not parsed by `bashlex` itself and are not weakness of `iterate_bashlex` function.  \n",
    "  \n",
    "Another case is full `unzip` comand. Presumably it is embedded into another one - let's take a look:"
   ],
   "cell_type": "markdown",
   "metadata": {}
  },
  {
   "cell_type": "code",
   "execution_count": 27,
   "metadata": {},
   "outputs": [
    {
     "output_type": "execute_result",
     "data": {
      "text/plain": "'find . -iname \\'*.jar\\' -printf \"unzip -c %p | grep -q \\'<stringWithOrWithoutSpacesToFind>\\' && echo %p\\\\n\" | sh\\n'"
     },
     "metadata": {},
     "execution_count": 27
    }
   ],
   "source": [
    "bad_example2 = [x for x in data if 'stringWithOrWithoutSpacesToFind' in x][0]\n",
    "be2 = bashlex.parse(bad_example2)\n",
    "bad_example2"
   ]
  },
  {
   "cell_type": "code",
   "execution_count": 28,
   "metadata": {
    "tags": []
   },
   "outputs": [
    {
     "output_type": "stream",
     "name": "stdout",
     "text": "1\nPipelineNode(pos=(0, 107), parts=[\n  CommandNode(pos=(0, 102), parts=[\n    WordNode(pos=(0, 4), word='find'),\n    WordNode(pos=(5, 6), word='.'),\n    WordNode(pos=(7, 13), word='-iname'),\n    WordNode(pos=(14, 21), word='*.jar'),\n    WordNode(pos=(22, 29), word='-printf'),\n    WordNode(pos=(30, 102), word=\"unzip -c %p | grep -q '<stringWithOrWithoutSpacesToFind>' && echo %pn\"),\n  ]),\n  PipeNode(pipe='|', pos=(103, 104)),\n  CommandNode(pos=(105, 107), parts=[\n    WordNode(pos=(105, 107), word='sh'),\n  ]),\n])\n"
    }
   ],
   "source": [
    "print(len(be2))\n",
    "print(be2[0].dump())"
   ]
  },
  {
   "source": [
    "Again we see that it indeed is `bashlex` weakness. Will try to give every single element to additional parsing cycle."
   ],
   "cell_type": "markdown",
   "metadata": {}
  },
  {
   "cell_type": "code",
   "execution_count": 29,
   "metadata": {},
   "outputs": [],
   "source": [
    "def bashlex_wrapper(command, cntr):\n",
    "    global ERR\n",
    "    try:\n",
    "        nodes = bashlex.parse(command)\n",
    "        return nodes\n",
    "    except (bashlex.errors.ParsingError, NotImplementedError, TypeError):\n",
    "        for element in re.split(r\" |,|{|}\",command):\n",
    "            cntr[element.strip()] += 1\n",
    "        ERR += 1\n",
    "        return None"
   ]
  },
  {
   "cell_type": "code",
   "execution_count": 30,
   "metadata": {},
   "outputs": [],
   "source": [
    "\n",
    "def parse_word(input_object, output, skipparse=False):\n",
    "    # TRY TO PARSE COMMAND AGAIN    \n",
    "    neword = ''\n",
    "    size = 1\n",
    "    word = re.sub(r\"[<>#{}]\", \"\", input_object.word).strip()\n",
    "    #word = input_object.word.strip(\"<>\")\n",
    "    if len(input_object.word) > 20:\n",
    "        p = bashlex_wrapper(word, output)\n",
    "        if p:\n",
    "            try:\n",
    "                size = len(p[0].parts)\n",
    "            except AttributeError:\n",
    "                size = len(p[0].list)\n",
    "    if size > 1: # if size > 1 then parsing found something new\n",
    "        for node in p:\n",
    "            output += iterate_bashlex2(node)\n",
    "        return output\n",
    "    # ADDED TO PARSE FLAGS WITH '=' BETTER\n",
    "    if '=' in input_object.word and '==' not in input_object.word:\n",
    "        l = input_object.word.split('=')\n",
    "        if 'chmod' in input_object.word.lower():\n",
    "            output[l[0]] += 1\n",
    "            output['='.join(l[1:])] += 1\n",
    "        elif len(l) == 2:\n",
    "            output[l[0]] += 1\n",
    "            output[l[1]] += 1\n",
    "        else:\n",
    "            output[input_object.word] += 1            \n",
    "    # STANDARD CASE\n",
    "    else:\n",
    "        output[input_object.word] += 1\n",
    "    return output\n",
    "\n",
    "\n",
    "def iterate_bashlex2(input_object):\n",
    "    output = Counter()\n",
    "    if isinstance(input_object, list):\n",
    "        for element in input_object:\n",
    "            output += iterate_bashlex2(element)\n",
    "    elif isinstance(input_object, bashlex.ast.node):\n",
    "        object_methods = [x for x in dir(input_object) if '__' not in x]\n",
    "        if 'command' in object_methods:\n",
    "            output += iterate_bashlex2(input_object.command)\n",
    "        elif 'list' in object_methods:\n",
    "            for element in input_object.list:\n",
    "                output += iterate_bashlex2(element)\n",
    "        elif 'parts' in object_methods:        \n",
    "            if input_object.parts:\n",
    "                for part in input_object.parts:\n",
    "                    output += iterate_bashlex2(part)\n",
    "            else:\n",
    "                output = parse_word(input_object, output)\n",
    "        elif 'word' in object_methods:\n",
    "            output = parse_word(input_object, output)\n",
    "        # Working on default specific types\n",
    "        elif 'value' in object_methods:\n",
    "            output[input_object.value] += 1\n",
    "        elif \"pipe\" in object_methods:\n",
    "            output[input_object.pipe] += 1\n",
    "        elif \"op\" in object_methods:\n",
    "            output[input_object.op] += 1\n",
    "        elif \"type\" in object_methods:\n",
    "            output[input_object.type] += 1\n",
    "        else:\n",
    "            print(\"Weird case:\", input_object)\n",
    "            import pdb; pdb.set_trace()\n",
    "    return output"
   ]
  },
  {
   "cell_type": "code",
   "execution_count": 31,
   "metadata": {
    "tags": []
   },
   "outputs": [
    {
     "output_type": "execute_result",
     "data": {
      "text/plain": "Counter({'ssh': 1,\n         'vagrant@127.0.0.1': 1,\n         '-p': 1,\n         '2222': 1,\n         '-o': 7,\n         'Compression': 1,\n         'yes': 4,\n         'DSAAuthentication': 1,\n         'LogLevel': 1,\n         'FATAL': 1,\n         'StrictHostKeyChecking': 1,\n         'no': 1,\n         'UserKnownHostsFile': 1,\n         '/dev/null': 1,\n         'IdentitiesOnly': 1,\n         '-i': 1,\n         '~': 1,\n         'ForwardAgent': 1})"
     },
     "metadata": {},
     "execution_count": 31
    }
   ],
   "source": [
    "iterate_bashlex2(be)"
   ]
  },
  {
   "source": [
    "Now it's seen that flag/value pairs with `=` sign are splitted correctly for problematic example.  \n",
    "Let's check that on command within command:"
   ],
   "cell_type": "markdown",
   "metadata": {}
  },
  {
   "cell_type": "code",
   "execution_count": 32,
   "metadata": {
    "tags": []
   },
   "outputs": [
    {
     "output_type": "execute_result",
     "data": {
      "text/plain": "Counter({'find': 1,\n         '.': 1,\n         '-iname': 1,\n         '*.jar': 1,\n         '-printf': 1,\n         'unzip': 1,\n         '-c': 1,\n         '%p': 1,\n         '|': 2,\n         'grep': 1,\n         '-q': 1,\n         'stringWithOrWithoutSpacesToFind': 1,\n         '&&': 1,\n         'echo': 1,\n         '%pn': 1,\n         'sh': 1})"
     },
     "metadata": {},
     "execution_count": 32
    }
   ],
   "source": [
    "iterate_bashlex2(be2)"
   ]
  },
  {
   "cell_type": "code",
   "execution_count": 33,
   "metadata": {
    "tags": []
   },
   "outputs": [
    {
     "output_type": "stream",
     "name": "stdout",
     "text": "Parsing errors encountered on 3.15 % of data.\n"
    }
   ],
   "source": [
    "# trying on all data\n",
    "alldict2 = Counter()\n",
    "ERR = 0\n",
    "for i,command in enumerate(data):\n",
    "    nodes = None\n",
    "    print(f'{i}/{len(data)}',end='\\r')\n",
    "    nodes = bashlex_wrapper(command, alldict2)\n",
    "    if nodes:\n",
    "        for node in nodes:\n",
    "            alldict2 += iterate_bashlex2(node)\n",
    "\n",
    "print(f'Parsing errors encountered on {ERR*100/len(data):.2f} % of data.')"
   ]
  },
  {
   "cell_type": "code",
   "execution_count": 34,
   "metadata": {
    "tags": []
   },
   "outputs": [
    {
     "output_type": "stream",
     "name": "stdout",
     "text": "6188\n"
    }
   ],
   "source": [
    "print(len({k:v for k,v in alldict2.items() if v == 1})) "
   ]
  },
  {
   "source": [
    "Nevertheless number of unique elements is approximately the same, parsing now is better. Increase is due to fact that amount of command elements increased as well.  "
   ],
   "cell_type": "markdown",
   "metadata": {}
  },
  {
   "cell_type": "code",
   "execution_count": 35,
   "metadata": {
    "tags": []
   },
   "outputs": [
    {
     "output_type": "stream",
     "name": "stdout",
     "text": "85100\n101232\n"
    }
   ],
   "source": [
    "print(sum(alldict.values()))\n",
    "print(sum(alldict2.values()))"
   ]
  },
  {
   "source": [
    "As example, see flags `LogLevel` or `--chmod` that appar in dataset. Previously they wasn't parsed at all...  \n",
    "`/dev/null` counter in this case increased as well. "
   ],
   "cell_type": "markdown",
   "metadata": {}
  },
  {
   "cell_type": "code",
   "execution_count": 36,
   "metadata": {
    "tags": []
   },
   "outputs": [
    {
     "output_type": "stream",
     "name": "stdout",
     "text": "{'LogLevel': 2}\n{'--chmod': 4}\n{'/dev/null': 44}\n"
    }
   ],
   "source": [
    "print({k:v for k,v in alldict2.items() if k == \"LogLevel\"}) \n",
    "print({k:v for k,v in alldict2.items() if k == \"--chmod\"})\n",
    "print({k:v for k,v in alldict2.items() if k == \"/dev/null\"}) "
   ]
  },
  {
   "cell_type": "code",
   "execution_count": 37,
   "metadata": {
    "tags": []
   },
   "outputs": [
    {
     "output_type": "stream",
     "name": "stdout",
     "text": "{'/dev/null': 28}\n"
    }
   ],
   "source": [
    "# Baseline value - should increase after correct parsing\n",
    "print({k:v for k,v in alldict.items() if k == \"/dev/null\"}) "
   ]
  },
  {
   "source": [
    "### Status quo\n",
    "\n",
    "Still relatively large amount of single time appearing tags.  \n",
    "Looking on them it is seen that they're sort of unique elements and not parsing errors anymore..."
   ],
   "cell_type": "markdown",
   "metadata": {}
  },
  {
   "cell_type": "code",
   "execution_count": 38,
   "metadata": {},
   "outputs": [
    {
     "output_type": "execute_result",
     "data": {
      "text/plain": "[('\"{\" \"\\\\C-v{}\\\\ei\"', 1),\n ('vi-insert', 1),\n ('attrib', 1),\n ('inotifywait', 1),\n ('\\\\./[a-f0-9\\\\-]{36}\\\\.jpg', 1),\n ('stringWithOrWithoutSpacesToFind', 1),\n ('#*', 1),\n ('/ /_/', 1),\n ('\"$(', 1),\n ('DIR=\"$(', 1),\n ('pwd)/$(basename', 1),\n ('\"$(dirname', 1),\n ('ABSOLUTE_PATH=\"$(cd', 1),\n ('-Rd', 1),\n ('4444', 1),\n ('10022', 1),\n ('/^[[:space:]]*$/d', 1),\n ('ForwardAgent', 1),\n ('IdentitiesOnly', 1),\n ('FATAL', 1),\n ('DSAAuthentication', 1),\n ('Compression', 1),\n ('vagrant@127.0.0.1', 1),\n ('--host', 1),\n ('vagrant@localhost', 1),\n ('s/n/', 1),\n ('s/@/', 1),\n ('s/s/', 1),\n ('s/^s+/-o@/', 1)]"
     },
     "metadata": {},
     "execution_count": 38
    }
   ],
   "source": [
    "alldict2.most_common()[:-30:-1]"
   ]
  },
  {
   "source": [
    "### Visualise"
   ],
   "cell_type": "markdown",
   "metadata": {}
  },
  {
   "cell_type": "code",
   "execution_count": 39,
   "metadata": {},
   "outputs": [],
   "source": [
    "import seaborn as sns\n",
    "import matplotlib.pyplot as plt"
   ]
  },
  {
   "cell_type": "code",
   "execution_count": 43,
   "metadata": {},
   "outputs": [],
   "source": [
    "X,Y = zip(*alldict2.most_common(15))"
   ]
  },
  {
   "cell_type": "code",
   "execution_count": 45,
   "metadata": {},
   "outputs": [
    {
     "output_type": "display_data",
     "data": {
      "text/plain": "<Figure size 1008x432 with 1 Axes>",
      "image/svg+xml": "<?xml version=\"1.0\" encoding=\"utf-8\" standalone=\"no\"?>\n<!DOCTYPE svg PUBLIC \"-//W3C//DTD SVG 1.1//EN\"\n  \"http://www.w3.org/Graphics/SVG/1.1/DTD/svg11.dtd\">\n<!-- Created with matplotlib (https://matplotlib.org/) -->\n<svg height=\"364.511937pt\" version=\"1.1\" viewBox=\"0 0 839.355375 364.511937\" width=\"839.355375pt\" xmlns=\"http://www.w3.org/2000/svg\" xmlns:xlink=\"http://www.w3.org/1999/xlink\">\n <metadata>\n  <rdf:RDF xmlns:cc=\"http://creativecommons.org/ns#\" xmlns:dc=\"http://purl.org/dc/elements/1.1/\" xmlns:rdf=\"http://www.w3.org/1999/02/22-rdf-syntax-ns#\">\n   <cc:Work>\n    <dc:type rdf:resource=\"http://purl.org/dc/dcmitype/StillImage\"/>\n    <dc:date>2020-09-16T12:19:41.966228</dc:date>\n    <dc:format>image/svg+xml</dc:format>\n    <dc:creator>\n     <cc:Agent>\n      <dc:title>Matplotlib v3.3.1, https://matplotlib.org/</dc:title>\n     </cc:Agent>\n    </dc:creator>\n   </cc:Work>\n  </rdf:RDF>\n </metadata>\n <defs>\n  <style type=\"text/css\">*{stroke-linecap:butt;stroke-linejoin:round;}</style>\n </defs>\n <g id=\"figure_1\">\n  <g id=\"patch_1\">\n   <path d=\"M 0 364.511937 \nL 839.355375 364.511937 \nL 839.355375 0 \nL 0 0 \nz\n\" style=\"fill:#ffffff;\"/>\n  </g>\n  <g id=\"axes_1\">\n   <g id=\"patch_2\">\n    <path d=\"M 50.955375 333.36 \nL 832.155375 333.36 \nL 832.155375 7.2 \nL 50.955375 7.2 \nz\n\" style=\"fill:#eaeaf2;\"/>\n   </g>\n   <g id=\"matplotlib.axis_1\">\n    <g id=\"xtick_1\">\n     <g id=\"text_1\">\n      <!-- find -->\n      <g style=\"fill:#262626;\" transform=\"translate(64.581531 353.883031)scale(0.154 -0.154)\">\n       <defs>\n        <path d=\"M 8.6875 0 \nL 8.6875 45.015625 \nL 0.921875 45.015625 \nL 0.921875 51.859375 \nL 8.6875 51.859375 \nL 8.6875 57.375 \nQ 8.6875 62.59375 9.625 65.140625 \nQ 10.890625 68.5625 14.078125 70.671875 \nQ 17.28125 72.796875 23.046875 72.796875 \nQ 26.765625 72.796875 31.25 71.921875 \nL 29.9375 64.265625 \nQ 27.203125 64.75 24.75 64.75 \nQ 20.75 64.75 19.09375 63.03125 \nQ 17.4375 61.328125 17.4375 56.640625 \nL 17.4375 51.859375 \nL 27.546875 51.859375 \nL 27.546875 45.015625 \nL 17.4375 45.015625 \nL 17.4375 0 \nz\n\" id=\"ArialMT-102\"/>\n        <path d=\"M 6.640625 61.46875 \nL 6.640625 71.578125 \nL 15.4375 71.578125 \nL 15.4375 61.46875 \nz\nM 6.640625 0 \nL 6.640625 51.859375 \nL 15.4375 51.859375 \nL 15.4375 0 \nz\n\" id=\"ArialMT-105\"/>\n        <path d=\"M 6.59375 0 \nL 6.59375 51.859375 \nL 14.5 51.859375 \nL 14.5 44.484375 \nQ 20.21875 53.03125 31 53.03125 \nQ 35.6875 53.03125 39.625 51.34375 \nQ 43.5625 49.65625 45.515625 46.921875 \nQ 47.46875 44.1875 48.25 40.4375 \nQ 48.734375 37.984375 48.734375 31.890625 \nL 48.734375 0 \nL 39.9375 0 \nL 39.9375 31.546875 \nQ 39.9375 36.921875 38.90625 39.578125 \nQ 37.890625 42.234375 35.28125 43.8125 \nQ 32.671875 45.40625 29.15625 45.40625 \nQ 23.53125 45.40625 19.453125 41.84375 \nQ 15.375 38.28125 15.375 28.328125 \nL 15.375 0 \nz\n\" id=\"ArialMT-110\"/>\n        <path d=\"M 40.234375 0 \nL 40.234375 6.546875 \nQ 35.296875 -1.171875 25.734375 -1.171875 \nQ 19.53125 -1.171875 14.328125 2.25 \nQ 9.125 5.671875 6.265625 11.796875 \nQ 3.421875 17.921875 3.421875 25.875 \nQ 3.421875 33.640625 6 39.96875 \nQ 8.59375 46.296875 13.765625 49.65625 \nQ 18.953125 53.03125 25.34375 53.03125 \nQ 30.03125 53.03125 33.6875 51.046875 \nQ 37.359375 49.078125 39.65625 45.90625 \nL 39.65625 71.578125 \nL 48.390625 71.578125 \nL 48.390625 0 \nz\nM 12.453125 25.875 \nQ 12.453125 15.921875 16.640625 10.984375 \nQ 20.84375 6.0625 26.5625 6.0625 \nQ 32.328125 6.0625 36.34375 10.765625 \nQ 40.375 15.484375 40.375 25.140625 \nQ 40.375 35.796875 36.265625 40.765625 \nQ 32.171875 45.75 26.171875 45.75 \nQ 20.3125 45.75 16.375 40.96875 \nQ 12.453125 36.1875 12.453125 25.875 \nz\n\" id=\"ArialMT-100\"/>\n       </defs>\n       <use xlink:href=\"#ArialMT-102\"/>\n       <use x=\"27.783203\" xlink:href=\"#ArialMT-105\"/>\n       <use x=\"50\" xlink:href=\"#ArialMT-110\"/>\n       <use x=\"105.615234\" xlink:href=\"#ArialMT-100\"/>\n      </g>\n     </g>\n    </g>\n    <g id=\"xtick_2\">\n     <g id=\"text_2\">\n      <!-- | -->\n      <g style=\"fill:#262626;\" transform=\"translate(127.074578 354.070719)scale(0.154 -0.154)\">\n       <defs>\n        <path d=\"M 9.1875 -21.046875 \nL 9.1875 72.796875 \nL 16.84375 72.796875 \nL 16.84375 -21.046875 \nz\n\" id=\"ArialMT-124\"/>\n       </defs>\n       <use xlink:href=\"#ArialMT-124\"/>\n      </g>\n     </g>\n    </g>\n    <g id=\"xtick_3\">\n     <g id=\"text_3\">\n      <!-- . -->\n      <g style=\"fill:#262626;\" transform=\"translate(179.016219 353.883031)scale(0.154 -0.154)\">\n       <defs>\n        <path d=\"M 9.078125 0 \nL 9.078125 10.015625 \nL 19.09375 10.015625 \nL 19.09375 0 \nz\n\" id=\"ArialMT-46\"/>\n       </defs>\n       <use xlink:href=\"#ArialMT-46\"/>\n      </g>\n     </g>\n    </g>\n    <g id=\"xtick_4\">\n     <g id=\"text_4\">\n      <!-- -name -->\n      <g style=\"fill:#262626;\" transform=\"translate(211.411891 353.883031)scale(0.154 -0.154)\">\n       <defs>\n        <path d=\"M 3.171875 21.484375 \nL 3.171875 30.328125 \nL 30.171875 30.328125 \nL 30.171875 21.484375 \nz\n\" id=\"ArialMT-45\"/>\n        <path d=\"M 40.4375 6.390625 \nQ 35.546875 2.25 31.03125 0.53125 \nQ 26.515625 -1.171875 21.34375 -1.171875 \nQ 12.796875 -1.171875 8.203125 3 \nQ 3.609375 7.171875 3.609375 13.671875 \nQ 3.609375 17.484375 5.34375 20.625 \nQ 7.078125 23.78125 9.890625 25.6875 \nQ 12.703125 27.59375 16.21875 28.5625 \nQ 18.796875 29.25 24.03125 29.890625 \nQ 34.671875 31.15625 39.703125 32.90625 \nQ 39.75 34.71875 39.75 35.203125 \nQ 39.75 40.578125 37.25 42.78125 \nQ 33.890625 45.75 27.25 45.75 \nQ 21.046875 45.75 18.09375 43.578125 \nQ 15.140625 41.40625 13.71875 35.890625 \nL 5.125 37.0625 \nQ 6.296875 42.578125 8.984375 45.96875 \nQ 11.671875 49.359375 16.75 51.1875 \nQ 21.828125 53.03125 28.515625 53.03125 \nQ 35.15625 53.03125 39.296875 51.46875 \nQ 43.453125 49.90625 45.40625 47.53125 \nQ 47.359375 45.171875 48.140625 41.546875 \nQ 48.578125 39.3125 48.578125 33.453125 \nL 48.578125 21.734375 \nQ 48.578125 9.46875 49.140625 6.21875 \nQ 49.703125 2.984375 51.375 0 \nL 42.1875 0 \nQ 40.828125 2.734375 40.4375 6.390625 \nz\nM 39.703125 26.03125 \nQ 34.90625 24.078125 25.34375 22.703125 \nQ 19.921875 21.921875 17.671875 20.9375 \nQ 15.4375 19.96875 14.203125 18.09375 \nQ 12.984375 16.21875 12.984375 13.921875 \nQ 12.984375 10.40625 15.640625 8.0625 \nQ 18.3125 5.71875 23.4375 5.71875 \nQ 28.515625 5.71875 32.46875 7.9375 \nQ 36.421875 10.15625 38.28125 14.015625 \nQ 39.703125 17 39.703125 22.796875 \nz\n\" id=\"ArialMT-97\"/>\n        <path d=\"M 6.59375 0 \nL 6.59375 51.859375 \nL 14.453125 51.859375 \nL 14.453125 44.578125 \nQ 16.890625 48.390625 20.9375 50.703125 \nQ 25 53.03125 30.171875 53.03125 \nQ 35.9375 53.03125 39.625 50.640625 \nQ 43.3125 48.25 44.828125 43.953125 \nQ 50.984375 53.03125 60.84375 53.03125 \nQ 68.5625 53.03125 72.703125 48.75 \nQ 76.859375 44.484375 76.859375 35.59375 \nL 76.859375 0 \nL 68.109375 0 \nL 68.109375 32.671875 \nQ 68.109375 37.9375 67.25 40.25 \nQ 66.40625 42.578125 64.15625 43.984375 \nQ 61.921875 45.40625 58.890625 45.40625 \nQ 53.421875 45.40625 49.796875 41.765625 \nQ 46.1875 38.140625 46.1875 30.125 \nL 46.1875 0 \nL 37.40625 0 \nL 37.40625 33.6875 \nQ 37.40625 39.546875 35.25 42.46875 \nQ 33.109375 45.40625 28.21875 45.40625 \nQ 24.515625 45.40625 21.359375 43.453125 \nQ 18.21875 41.5 16.796875 37.734375 \nQ 15.375 33.984375 15.375 26.90625 \nL 15.375 0 \nz\n\" id=\"ArialMT-109\"/>\n        <path d=\"M 42.09375 16.703125 \nL 51.171875 15.578125 \nQ 49.03125 7.625 43.21875 3.21875 \nQ 37.40625 -1.171875 28.375 -1.171875 \nQ 17 -1.171875 10.328125 5.828125 \nQ 3.65625 12.84375 3.65625 25.484375 \nQ 3.65625 38.578125 10.390625 45.796875 \nQ 17.140625 53.03125 27.875 53.03125 \nQ 38.28125 53.03125 44.875 45.953125 \nQ 51.46875 38.875 51.46875 26.03125 \nQ 51.46875 25.25 51.421875 23.6875 \nL 12.75 23.6875 \nQ 13.234375 15.140625 17.578125 10.59375 \nQ 21.921875 6.0625 28.421875 6.0625 \nQ 33.25 6.0625 36.671875 8.59375 \nQ 40.09375 11.140625 42.09375 16.703125 \nz\nM 13.234375 30.90625 \nL 42.1875 30.90625 \nQ 41.609375 37.453125 38.875 40.71875 \nQ 34.671875 45.796875 27.984375 45.796875 \nQ 21.921875 45.796875 17.796875 41.75 \nQ 13.671875 37.703125 13.234375 30.90625 \nz\n\" id=\"ArialMT-101\"/>\n       </defs>\n       <use xlink:href=\"#ArialMT-45\"/>\n       <use x=\"33.300781\" xlink:href=\"#ArialMT-110\"/>\n       <use x=\"88.916016\" xlink:href=\"#ArialMT-97\"/>\n       <use x=\"144.53125\" xlink:href=\"#ArialMT-109\"/>\n       <use x=\"227.832031\" xlink:href=\"#ArialMT-101\"/>\n      </g>\n     </g>\n    </g>\n    <g id=\"xtick_5\">\n     <g id=\"text_5\">\n      <!-- -type -->\n      <g style=\"fill:#262626;\" transform=\"translate(268.198516 353.702562)scale(0.154 -0.154)\">\n       <defs>\n        <path d=\"M 25.78125 7.859375 \nL 27.046875 0.09375 \nQ 23.34375 -0.6875 20.40625 -0.6875 \nQ 15.625 -0.6875 12.984375 0.828125 \nQ 10.359375 2.34375 9.28125 4.8125 \nQ 8.203125 7.28125 8.203125 15.1875 \nL 8.203125 45.015625 \nL 1.765625 45.015625 \nL 1.765625 51.859375 \nL 8.203125 51.859375 \nL 8.203125 64.703125 \nL 16.9375 69.96875 \nL 16.9375 51.859375 \nL 25.78125 51.859375 \nL 25.78125 45.015625 \nL 16.9375 45.015625 \nL 16.9375 14.703125 \nQ 16.9375 10.9375 17.40625 9.859375 \nQ 17.875 8.796875 18.921875 8.15625 \nQ 19.96875 7.515625 21.921875 7.515625 \nQ 23.390625 7.515625 25.78125 7.859375 \nz\n\" id=\"ArialMT-116\"/>\n        <path d=\"M 6.203125 -19.96875 \nL 5.21875 -11.71875 \nQ 8.109375 -12.5 10.25 -12.5 \nQ 13.1875 -12.5 14.9375 -11.515625 \nQ 16.703125 -10.546875 17.828125 -8.796875 \nQ 18.65625 -7.46875 20.515625 -2.25 \nQ 20.75 -1.515625 21.296875 -0.09375 \nL 1.609375 51.859375 \nL 11.078125 51.859375 \nL 21.875 21.828125 \nQ 23.96875 16.109375 25.640625 9.8125 \nQ 27.15625 15.875 29.25 21.625 \nL 40.328125 51.859375 \nL 49.125 51.859375 \nL 29.390625 -0.875 \nQ 26.21875 -9.421875 24.46875 -12.640625 \nQ 22.125 -17 19.09375 -19.015625 \nQ 16.0625 -21.046875 11.859375 -21.046875 \nQ 9.328125 -21.046875 6.203125 -19.96875 \nz\n\" id=\"ArialMT-121\"/>\n        <path d=\"M 6.59375 -19.875 \nL 6.59375 51.859375 \nL 14.59375 51.859375 \nL 14.59375 45.125 \nQ 17.4375 49.078125 21 51.046875 \nQ 24.5625 53.03125 29.640625 53.03125 \nQ 36.28125 53.03125 41.359375 49.609375 \nQ 46.4375 46.1875 49.015625 39.953125 \nQ 51.609375 33.734375 51.609375 26.3125 \nQ 51.609375 18.359375 48.75 11.984375 \nQ 45.90625 5.609375 40.453125 2.21875 \nQ 35.015625 -1.171875 29 -1.171875 \nQ 24.609375 -1.171875 21.109375 0.6875 \nQ 17.625 2.546875 15.375 5.375 \nL 15.375 -19.875 \nz\nM 14.546875 25.640625 \nQ 14.546875 15.625 18.59375 10.84375 \nQ 22.65625 6.0625 28.421875 6.0625 \nQ 34.28125 6.0625 38.453125 11.015625 \nQ 42.625 15.96875 42.625 26.375 \nQ 42.625 36.28125 38.546875 41.203125 \nQ 34.46875 46.140625 28.8125 46.140625 \nQ 23.1875 46.140625 18.859375 40.890625 \nQ 14.546875 35.640625 14.546875 25.640625 \nz\n\" id=\"ArialMT-112\"/>\n       </defs>\n       <use xlink:href=\"#ArialMT-45\"/>\n       <use x=\"33.300781\" xlink:href=\"#ArialMT-116\"/>\n       <use x=\"61.083984\" xlink:href=\"#ArialMT-121\"/>\n       <use x=\"111.083984\" xlink:href=\"#ArialMT-112\"/>\n       <use x=\"166.699219\" xlink:href=\"#ArialMT-101\"/>\n      </g>\n     </g>\n    </g>\n    <g id=\"xtick_6\">\n     <g id=\"text_6\">\n      <!-- f -->\n      <g style=\"fill:#262626;\" transform=\"translate(335.256219 353.883031)scale(0.154 -0.154)\">\n       <use xlink:href=\"#ArialMT-102\"/>\n      </g>\n     </g>\n    </g>\n    <g id=\"xtick_7\">\n     <g id=\"text_7\">\n      <!-- ; -->\n      <g style=\"fill:#262626;\" transform=\"translate(387.336219 353.883031)scale(0.154 -0.154)\">\n       <defs>\n        <path d=\"M 8.890625 41.84375 \nL 8.890625 51.859375 \nL 18.890625 51.859375 \nL 18.890625 41.84375 \nz\nM 8.890625 0 \nL 8.890625 10.015625 \nL 18.890625 10.015625 \nL 18.890625 0 \nQ 18.890625 -5.515625 16.9375 -8.90625 \nQ 14.984375 -12.3125 10.75 -14.15625 \nL 8.296875 -10.40625 \nQ 11.078125 -9.1875 12.390625 -6.8125 \nQ 13.71875 -4.4375 13.875 0 \nz\n\" id=\"ArialMT-59\"/>\n       </defs>\n       <use xlink:href=\"#ArialMT-59\"/>\n      </g>\n     </g>\n    </g>\n    <g id=\"xtick_8\">\n     <g id=\"text_8\">\n      <!-- {} -->\n      <g style=\"fill:#262626;\" transform=\"translate(436.410813 354.070719)scale(0.154 -0.154)\">\n       <defs>\n        <path d=\"M 2.78125 29.890625 \nQ 6.546875 29.984375 8.90625 31.90625 \nQ 11.28125 33.84375 12.0625 37.203125 \nQ 12.84375 40.578125 12.890625 48.734375 \nQ 12.9375 56.890625 13.1875 59.46875 \nQ 13.625 63.578125 14.8125 66.0625 \nQ 16.015625 68.5625 17.765625 70.046875 \nQ 19.53125 71.53125 22.265625 72.3125 \nQ 24.125 72.796875 28.328125 72.796875 \nL 31.0625 72.796875 \nL 31.0625 65.140625 \nL 29.546875 65.140625 \nQ 24.46875 65.140625 22.796875 63.296875 \nQ 21.140625 61.46875 21.140625 55.125 \nQ 21.140625 42.328125 20.609375 38.96875 \nQ 19.734375 33.734375 17.609375 30.90625 \nQ 15.484375 28.078125 10.9375 25.875 \nQ 16.3125 23.640625 18.71875 19.015625 \nQ 21.140625 14.40625 21.140625 3.90625 \nQ 21.140625 -5.609375 21.34375 -7.421875 \nQ 21.734375 -10.75 23.3125 -12.0625 \nQ 24.90625 -13.375 29.546875 -13.375 \nL 31.0625 -13.375 \nL 31.0625 -21.046875 \nL 28.328125 -21.046875 \nQ 23.53125 -21.046875 21.390625 -20.265625 \nQ 18.265625 -19.140625 16.203125 -16.625 \nQ 14.15625 -14.109375 13.546875 -10.25 \nQ 12.9375 -6.390625 12.890625 2.390625 \nQ 12.84375 11.1875 12.0625 14.546875 \nQ 11.28125 17.921875 8.90625 19.875 \nQ 6.546875 21.828125 2.78125 21.921875 \nz\n\" id=\"ArialMT-123\"/>\n        <path d=\"M 30.5625 29.890625 \nL 30.5625 21.921875 \nQ 26.8125 21.828125 24.4375 19.875 \nQ 22.078125 17.921875 21.296875 14.578125 \nQ 20.515625 11.234375 20.453125 3.078125 \nQ 20.40625 -5.078125 20.171875 -7.671875 \nQ 19.734375 -11.8125 18.53125 -14.28125 \nQ 17.328125 -16.75 15.5625 -18.234375 \nQ 13.8125 -19.734375 11.078125 -20.515625 \nQ 9.234375 -21.046875 5.03125 -21.046875 \nL 2.296875 -21.046875 \nL 2.296875 -13.375 \nL 3.8125 -13.375 \nQ 8.890625 -13.375 10.546875 -11.546875 \nQ 12.203125 -9.71875 12.203125 -3.328125 \nQ 12.203125 8.890625 12.640625 12.15625 \nQ 13.421875 17.578125 15.765625 20.828125 \nQ 18.109375 24.078125 22.40625 25.875 \nQ 16.796875 28.5625 14.5 32.984375 \nQ 12.203125 37.40625 12.203125 47.90625 \nQ 12.203125 57.421875 11.96875 59.28125 \nQ 11.625 62.546875 10.03125 63.84375 \nQ 8.453125 65.140625 3.8125 65.140625 \nL 2.296875 65.140625 \nL 2.296875 72.796875 \nL 5.03125 72.796875 \nQ 9.8125 72.796875 11.96875 72.015625 \nQ 15.09375 70.953125 17.140625 68.40625 \nQ 19.1875 65.875 19.796875 62.015625 \nQ 20.40625 58.15625 20.453125 49.359375 \nQ 20.515625 40.578125 21.296875 37.234375 \nQ 22.078125 33.890625 24.4375 31.9375 \nQ 26.8125 29.984375 30.5625 29.890625 \nz\n\" id=\"ArialMT-125\"/>\n       </defs>\n       <use xlink:href=\"#ArialMT-123\"/>\n       <use x=\"33.398438\" xlink:href=\"#ArialMT-125\"/>\n      </g>\n     </g>\n    </g>\n    <g id=\"xtick_9\">\n     <g id=\"text_9\">\n      <!-- -exec -->\n      <g style=\"fill:#262626;\" transform=\"translate(474.807672 353.883031)scale(0.154 -0.154)\">\n       <defs>\n        <path d=\"M 0.734375 0 \nL 19.671875 26.953125 \nL 2.15625 51.859375 \nL 13.140625 51.859375 \nL 21.09375 39.703125 \nQ 23.34375 36.234375 24.703125 33.890625 \nQ 26.859375 37.109375 28.65625 39.59375 \nL 37.40625 51.859375 \nL 47.90625 51.859375 \nL 29.984375 27.4375 \nL 49.265625 0 \nL 38.484375 0 \nL 27.828125 16.109375 \nL 25 20.453125 \nL 11.375 0 \nz\n\" id=\"ArialMT-120\"/>\n        <path d=\"M 40.4375 19 \nL 49.078125 17.875 \nQ 47.65625 8.9375 41.8125 3.875 \nQ 35.984375 -1.171875 27.484375 -1.171875 \nQ 16.84375 -1.171875 10.375 5.78125 \nQ 3.90625 12.75 3.90625 25.734375 \nQ 3.90625 34.125 6.6875 40.421875 \nQ 9.46875 46.734375 15.15625 49.875 \nQ 20.84375 53.03125 27.546875 53.03125 \nQ 35.984375 53.03125 41.359375 48.75 \nQ 46.734375 44.484375 48.25 36.625 \nL 39.703125 35.296875 \nQ 38.484375 40.53125 35.375 43.15625 \nQ 32.28125 45.796875 27.875 45.796875 \nQ 21.234375 45.796875 17.078125 41.03125 \nQ 12.9375 36.28125 12.9375 25.984375 \nQ 12.9375 15.53125 16.9375 10.796875 \nQ 20.953125 6.0625 27.390625 6.0625 \nQ 32.5625 6.0625 36.03125 9.234375 \nQ 39.5 12.40625 40.4375 19 \nz\n\" id=\"ArialMT-99\"/>\n       </defs>\n       <use xlink:href=\"#ArialMT-45\"/>\n       <use x=\"33.300781\" xlink:href=\"#ArialMT-101\"/>\n       <use x=\"88.916016\" xlink:href=\"#ArialMT-120\"/>\n       <use x=\"138.916016\" xlink:href=\"#ArialMT-101\"/>\n       <use x=\"194.53125\" xlink:href=\"#ArialMT-99\"/>\n      </g>\n     </g>\n    </g>\n    <g id=\"xtick_10\">\n     <g id=\"text_10\">\n      <!-- xargs -->\n      <g style=\"fill:#262626;\" transform=\"translate(526.887672 353.702562)scale(0.154 -0.154)\">\n       <defs>\n        <path d=\"M 6.5 0 \nL 6.5 51.859375 \nL 14.40625 51.859375 \nL 14.40625 44 \nQ 17.4375 49.515625 20 51.265625 \nQ 22.5625 53.03125 25.640625 53.03125 \nQ 30.078125 53.03125 34.671875 50.203125 \nL 31.640625 42.046875 \nQ 28.421875 43.953125 25.203125 43.953125 \nQ 22.3125 43.953125 20.015625 42.21875 \nQ 17.71875 40.484375 16.75 37.40625 \nQ 15.28125 32.71875 15.28125 27.15625 \nL 15.28125 0 \nz\n\" id=\"ArialMT-114\"/>\n        <path d=\"M 4.984375 -4.296875 \nL 13.53125 -5.5625 \nQ 14.0625 -9.515625 16.5 -11.328125 \nQ 19.78125 -13.765625 25.4375 -13.765625 \nQ 31.546875 -13.765625 34.859375 -11.328125 \nQ 38.1875 -8.890625 39.359375 -4.5 \nQ 40.046875 -1.8125 39.984375 6.78125 \nQ 34.234375 0 25.640625 0 \nQ 14.9375 0 9.078125 7.71875 \nQ 3.21875 15.4375 3.21875 26.21875 \nQ 3.21875 33.640625 5.90625 39.90625 \nQ 8.59375 46.1875 13.6875 49.609375 \nQ 18.796875 53.03125 25.6875 53.03125 \nQ 34.859375 53.03125 40.828125 45.609375 \nL 40.828125 51.859375 \nL 48.921875 51.859375 \nL 48.921875 7.03125 \nQ 48.921875 -5.078125 46.453125 -10.125 \nQ 44 -15.1875 38.640625 -18.109375 \nQ 33.296875 -21.046875 25.484375 -21.046875 \nQ 16.21875 -21.046875 10.5 -16.875 \nQ 4.78125 -12.703125 4.984375 -4.296875 \nz\nM 12.25 26.859375 \nQ 12.25 16.65625 16.296875 11.96875 \nQ 20.359375 7.28125 26.46875 7.28125 \nQ 32.515625 7.28125 36.609375 11.9375 \nQ 40.71875 16.609375 40.71875 26.5625 \nQ 40.71875 36.078125 36.5 40.90625 \nQ 32.28125 45.75 26.3125 45.75 \nQ 20.453125 45.75 16.34375 40.984375 \nQ 12.25 36.234375 12.25 26.859375 \nz\n\" id=\"ArialMT-103\"/>\n        <path d=\"M 3.078125 15.484375 \nL 11.765625 16.84375 \nQ 12.5 11.625 15.84375 8.84375 \nQ 19.1875 6.0625 25.203125 6.0625 \nQ 31.25 6.0625 34.171875 8.515625 \nQ 37.109375 10.984375 37.109375 14.3125 \nQ 37.109375 17.28125 34.515625 19 \nQ 32.71875 20.171875 25.53125 21.96875 \nQ 15.875 24.421875 12.140625 26.203125 \nQ 8.40625 27.984375 6.46875 31.125 \nQ 4.546875 34.28125 4.546875 38.09375 \nQ 4.546875 41.546875 6.125 44.5 \nQ 7.71875 47.46875 10.453125 49.421875 \nQ 12.5 50.921875 16.03125 51.96875 \nQ 19.578125 53.03125 23.640625 53.03125 \nQ 29.734375 53.03125 34.34375 51.265625 \nQ 38.96875 49.515625 41.15625 46.5 \nQ 43.359375 43.5 44.1875 38.484375 \nL 35.59375 37.3125 \nQ 35.015625 41.3125 32.203125 43.546875 \nQ 29.390625 45.796875 24.265625 45.796875 \nQ 18.21875 45.796875 15.625 43.796875 \nQ 13.03125 41.796875 13.03125 39.109375 \nQ 13.03125 37.40625 14.109375 36.03125 \nQ 15.1875 34.625 17.484375 33.6875 \nQ 18.796875 33.203125 25.25 31.453125 \nQ 34.578125 28.953125 38.25 27.359375 \nQ 41.9375 25.78125 44.03125 22.75 \nQ 46.140625 19.734375 46.140625 15.234375 \nQ 46.140625 10.84375 43.578125 6.953125 \nQ 41.015625 3.078125 36.171875 0.953125 \nQ 31.34375 -1.171875 25.25 -1.171875 \nQ 15.140625 -1.171875 9.84375 3.03125 \nQ 4.546875 7.234375 3.078125 15.484375 \nz\n\" id=\"ArialMT-115\"/>\n       </defs>\n       <use xlink:href=\"#ArialMT-120\"/>\n       <use x=\"50\" xlink:href=\"#ArialMT-97\"/>\n       <use x=\"105.615234\" xlink:href=\"#ArialMT-114\"/>\n       <use x=\"138.916016\" xlink:href=\"#ArialMT-103\"/>\n       <use x=\"194.53125\" xlink:href=\"#ArialMT-115\"/>\n      </g>\n     </g>\n    </g>\n    <g id=\"xtick_11\">\n     <g id=\"text_11\">\n      <!-- grep -->\n      <g style=\"fill:#262626;\" transform=\"translate(582.38575 353.702562)scale(0.154 -0.154)\">\n       <use xlink:href=\"#ArialMT-103\"/>\n       <use x=\"55.615234\" xlink:href=\"#ArialMT-114\"/>\n       <use x=\"88.916016\" xlink:href=\"#ArialMT-101\"/>\n       <use x=\"144.53125\" xlink:href=\"#ArialMT-112\"/>\n      </g>\n     </g>\n    </g>\n    <g id=\"xtick_12\">\n     <g id=\"text_12\">\n      <!-- 1 -->\n      <g style=\"fill:#262626;\" transform=\"translate(645.593453 353.883031)scale(0.154 -0.154)\">\n       <defs>\n        <path d=\"M 37.25 0 \nL 28.46875 0 \nL 28.46875 56 \nQ 25.296875 52.984375 20.140625 49.953125 \nQ 14.984375 46.921875 10.890625 45.40625 \nL 10.890625 53.90625 \nQ 18.265625 57.375 23.78125 62.296875 \nQ 29.296875 67.234375 31.59375 71.875 \nL 37.25 71.875 \nz\n\" id=\"ArialMT-49\"/>\n       </defs>\n       <use xlink:href=\"#ArialMT-49\"/>\n      </g>\n     </g>\n    </g>\n    <g id=\"xtick_13\">\n     <g id=\"text_13\">\n      <!-- -print -->\n      <g style=\"fill:#262626;\" transform=\"translate(684.413812 353.883031)scale(0.154 -0.154)\">\n       <use xlink:href=\"#ArialMT-45\"/>\n       <use x=\"33.300781\" xlink:href=\"#ArialMT-112\"/>\n       <use x=\"88.916016\" xlink:href=\"#ArialMT-114\"/>\n       <use x=\"122.216797\" xlink:href=\"#ArialMT-105\"/>\n       <use x=\"144.433594\" xlink:href=\"#ArialMT-110\"/>\n       <use x=\"200.048828\" xlink:href=\"#ArialMT-116\"/>\n      </g>\n     </g>\n    </g>\n    <g id=\"xtick_14\">\n     <g id=\"text_14\">\n      <!-- d -->\n      <g style=\"fill:#262626;\" transform=\"translate(749.753453 353.883031)scale(0.154 -0.154)\">\n       <use xlink:href=\"#ArialMT-100\"/>\n      </g>\n     </g>\n    </g>\n    <g id=\"xtick_15\">\n     <g id=\"text_15\">\n      <!-- / -->\n      <g style=\"fill:#262626;\" transform=\"translate(803.976219 353.883031)scale(0.154 -0.154)\">\n       <defs>\n        <path d=\"M 0 -1.21875 \nL 20.75 72.796875 \nL 27.78125 72.796875 \nL 7.078125 -1.21875 \nz\n\" id=\"ArialMT-47\"/>\n       </defs>\n       <use xlink:href=\"#ArialMT-47\"/>\n      </g>\n     </g>\n    </g>\n   </g>\n   <g id=\"matplotlib.axis_2\">\n    <g id=\"ytick_1\">\n     <g id=\"line2d_1\">\n      <path clip-path=\"url(#pac4aba8299)\" d=\"M 50.955375 333.36 \nL 832.155375 333.36 \n\" style=\"fill:none;stroke:#ffffff;stroke-linecap:round;\"/>\n     </g>\n     <g id=\"text_16\">\n      <!-- 0 -->\n      <g style=\"fill:#262626;\" transform=\"translate(32.891531 338.871516)scale(0.154 -0.154)\">\n       <defs>\n        <path d=\"M 4.15625 35.296875 \nQ 4.15625 48 6.765625 55.734375 \nQ 9.375 63.484375 14.515625 67.671875 \nQ 19.671875 71.875 27.484375 71.875 \nQ 33.25 71.875 37.59375 69.546875 \nQ 41.9375 67.234375 44.765625 62.859375 \nQ 47.609375 58.5 49.21875 52.21875 \nQ 50.828125 45.953125 50.828125 35.296875 \nQ 50.828125 22.703125 48.234375 14.96875 \nQ 45.65625 7.234375 40.5 3 \nQ 35.359375 -1.21875 27.484375 -1.21875 \nQ 17.140625 -1.21875 11.234375 6.203125 \nQ 4.15625 15.140625 4.15625 35.296875 \nz\nM 13.1875 35.296875 \nQ 13.1875 17.671875 17.3125 11.828125 \nQ 21.4375 6 27.484375 6 \nQ 33.546875 6 37.671875 11.859375 \nQ 41.796875 17.71875 41.796875 35.296875 \nQ 41.796875 52.984375 37.671875 58.78125 \nQ 33.546875 64.59375 27.390625 64.59375 \nQ 21.34375 64.59375 17.71875 59.46875 \nQ 13.1875 52.9375 13.1875 35.296875 \nz\n\" id=\"ArialMT-48\"/>\n       </defs>\n       <use xlink:href=\"#ArialMT-48\"/>\n      </g>\n     </g>\n    </g>\n    <g id=\"ytick_2\">\n     <g id=\"line2d_2\">\n      <path clip-path=\"url(#pac4aba8299)\" d=\"M 50.955375 293.769308 \nL 832.155375 293.769308 \n\" style=\"fill:none;stroke:#ffffff;stroke-linecap:round;\"/>\n     </g>\n     <g id=\"text_17\">\n      <!-- 1000 -->\n      <g style=\"fill:#262626;\" transform=\"translate(7.2 299.280823)scale(0.154 -0.154)\">\n       <use xlink:href=\"#ArialMT-49\"/>\n       <use x=\"55.615234\" xlink:href=\"#ArialMT-48\"/>\n       <use x=\"111.230469\" xlink:href=\"#ArialMT-48\"/>\n       <use x=\"166.845703\" xlink:href=\"#ArialMT-48\"/>\n      </g>\n     </g>\n    </g>\n    <g id=\"ytick_3\">\n     <g id=\"line2d_3\">\n      <path clip-path=\"url(#pac4aba8299)\" d=\"M 50.955375 254.178615 \nL 832.155375 254.178615 \n\" style=\"fill:none;stroke:#ffffff;stroke-linecap:round;\"/>\n     </g>\n     <g id=\"text_18\">\n      <!-- 2000 -->\n      <g style=\"fill:#262626;\" transform=\"translate(7.2 259.690131)scale(0.154 -0.154)\">\n       <defs>\n        <path d=\"M 50.34375 8.453125 \nL 50.34375 0 \nL 3.03125 0 \nQ 2.9375 3.171875 4.046875 6.109375 \nQ 5.859375 10.9375 9.828125 15.625 \nQ 13.8125 20.3125 21.34375 26.46875 \nQ 33.015625 36.03125 37.109375 41.625 \nQ 41.21875 47.21875 41.21875 52.203125 \nQ 41.21875 57.421875 37.46875 61 \nQ 33.734375 64.59375 27.734375 64.59375 \nQ 21.390625 64.59375 17.578125 60.78125 \nQ 13.765625 56.984375 13.71875 50.25 \nL 4.6875 51.171875 \nQ 5.609375 61.28125 11.65625 66.578125 \nQ 17.71875 71.875 27.9375 71.875 \nQ 38.234375 71.875 44.234375 66.15625 \nQ 50.25 60.453125 50.25 52 \nQ 50.25 47.703125 48.484375 43.546875 \nQ 46.734375 39.40625 42.65625 34.8125 \nQ 38.578125 30.21875 29.109375 22.21875 \nQ 21.1875 15.578125 18.9375 13.203125 \nQ 16.703125 10.84375 15.234375 8.453125 \nz\n\" id=\"ArialMT-50\"/>\n       </defs>\n       <use xlink:href=\"#ArialMT-50\"/>\n       <use x=\"55.615234\" xlink:href=\"#ArialMT-48\"/>\n       <use x=\"111.230469\" xlink:href=\"#ArialMT-48\"/>\n       <use x=\"166.845703\" xlink:href=\"#ArialMT-48\"/>\n      </g>\n     </g>\n    </g>\n    <g id=\"ytick_4\">\n     <g id=\"line2d_4\">\n      <path clip-path=\"url(#pac4aba8299)\" d=\"M 50.955375 214.587923 \nL 832.155375 214.587923 \n\" style=\"fill:none;stroke:#ffffff;stroke-linecap:round;\"/>\n     </g>\n     <g id=\"text_19\">\n      <!-- 3000 -->\n      <g style=\"fill:#262626;\" transform=\"translate(7.2 220.099439)scale(0.154 -0.154)\">\n       <defs>\n        <path d=\"M 4.203125 18.890625 \nL 12.984375 20.0625 \nQ 14.5 12.59375 18.140625 9.296875 \nQ 21.78125 6 27 6 \nQ 33.203125 6 37.46875 10.296875 \nQ 41.75 14.59375 41.75 20.953125 \nQ 41.75 27 37.796875 30.921875 \nQ 33.84375 34.859375 27.734375 34.859375 \nQ 25.25 34.859375 21.53125 33.890625 \nL 22.515625 41.609375 \nQ 23.390625 41.5 23.921875 41.5 \nQ 29.546875 41.5 34.03125 44.421875 \nQ 38.53125 47.359375 38.53125 53.46875 \nQ 38.53125 58.296875 35.25 61.46875 \nQ 31.984375 64.65625 26.8125 64.65625 \nQ 21.6875 64.65625 18.265625 61.421875 \nQ 14.84375 58.203125 13.875 51.765625 \nL 5.078125 53.328125 \nQ 6.6875 62.15625 12.390625 67.015625 \nQ 18.109375 71.875 26.609375 71.875 \nQ 32.46875 71.875 37.390625 69.359375 \nQ 42.328125 66.84375 44.9375 62.5 \nQ 47.5625 58.15625 47.5625 53.265625 \nQ 47.5625 48.640625 45.0625 44.828125 \nQ 42.578125 41.015625 37.703125 38.765625 \nQ 44.046875 37.3125 47.5625 32.6875 \nQ 51.078125 28.078125 51.078125 21.140625 \nQ 51.078125 11.765625 44.234375 5.25 \nQ 37.40625 -1.265625 26.953125 -1.265625 \nQ 17.53125 -1.265625 11.296875 4.34375 \nQ 5.078125 9.96875 4.203125 18.890625 \nz\n\" id=\"ArialMT-51\"/>\n       </defs>\n       <use xlink:href=\"#ArialMT-51\"/>\n       <use x=\"55.615234\" xlink:href=\"#ArialMT-48\"/>\n       <use x=\"111.230469\" xlink:href=\"#ArialMT-48\"/>\n       <use x=\"166.845703\" xlink:href=\"#ArialMT-48\"/>\n      </g>\n     </g>\n    </g>\n    <g id=\"ytick_5\">\n     <g id=\"line2d_5\">\n      <path clip-path=\"url(#pac4aba8299)\" d=\"M 50.955375 174.997231 \nL 832.155375 174.997231 \n\" style=\"fill:none;stroke:#ffffff;stroke-linecap:round;\"/>\n     </g>\n     <g id=\"text_20\">\n      <!-- 4000 -->\n      <g style=\"fill:#262626;\" transform=\"translate(7.2 180.508747)scale(0.154 -0.154)\">\n       <defs>\n        <path d=\"M 32.328125 0 \nL 32.328125 17.140625 \nL 1.265625 17.140625 \nL 1.265625 25.203125 \nL 33.9375 71.578125 \nL 41.109375 71.578125 \nL 41.109375 25.203125 \nL 50.78125 25.203125 \nL 50.78125 17.140625 \nL 41.109375 17.140625 \nL 41.109375 0 \nz\nM 32.328125 25.203125 \nL 32.328125 57.46875 \nL 9.90625 25.203125 \nz\n\" id=\"ArialMT-52\"/>\n       </defs>\n       <use xlink:href=\"#ArialMT-52\"/>\n       <use x=\"55.615234\" xlink:href=\"#ArialMT-48\"/>\n       <use x=\"111.230469\" xlink:href=\"#ArialMT-48\"/>\n       <use x=\"166.845703\" xlink:href=\"#ArialMT-48\"/>\n      </g>\n     </g>\n    </g>\n    <g id=\"ytick_6\">\n     <g id=\"line2d_6\">\n      <path clip-path=\"url(#pac4aba8299)\" d=\"M 50.955375 135.406539 \nL 832.155375 135.406539 \n\" style=\"fill:none;stroke:#ffffff;stroke-linecap:round;\"/>\n     </g>\n     <g id=\"text_21\">\n      <!-- 5000 -->\n      <g style=\"fill:#262626;\" transform=\"translate(7.2 140.918054)scale(0.154 -0.154)\">\n       <defs>\n        <path d=\"M 4.15625 18.75 \nL 13.375 19.53125 \nQ 14.40625 12.796875 18.140625 9.390625 \nQ 21.875 6 27.15625 6 \nQ 33.5 6 37.890625 10.78125 \nQ 42.28125 15.578125 42.28125 23.484375 \nQ 42.28125 31 38.0625 35.34375 \nQ 33.84375 39.703125 27 39.703125 \nQ 22.75 39.703125 19.328125 37.765625 \nQ 15.921875 35.84375 13.96875 32.765625 \nL 5.71875 33.84375 \nL 12.640625 70.609375 \nL 48.25 70.609375 \nL 48.25 62.203125 \nL 19.671875 62.203125 \nL 15.828125 42.96875 \nQ 22.265625 47.46875 29.34375 47.46875 \nQ 38.71875 47.46875 45.15625 40.96875 \nQ 51.609375 34.46875 51.609375 24.265625 \nQ 51.609375 14.546875 45.953125 7.46875 \nQ 39.0625 -1.21875 27.15625 -1.21875 \nQ 17.390625 -1.21875 11.203125 4.25 \nQ 5.03125 9.71875 4.15625 18.75 \nz\n\" id=\"ArialMT-53\"/>\n       </defs>\n       <use xlink:href=\"#ArialMT-53\"/>\n       <use x=\"55.615234\" xlink:href=\"#ArialMT-48\"/>\n       <use x=\"111.230469\" xlink:href=\"#ArialMT-48\"/>\n       <use x=\"166.845703\" xlink:href=\"#ArialMT-48\"/>\n      </g>\n     </g>\n    </g>\n    <g id=\"ytick_7\">\n     <g id=\"line2d_7\">\n      <path clip-path=\"url(#pac4aba8299)\" d=\"M 50.955375 95.815846 \nL 832.155375 95.815846 \n\" style=\"fill:none;stroke:#ffffff;stroke-linecap:round;\"/>\n     </g>\n     <g id=\"text_22\">\n      <!-- 6000 -->\n      <g style=\"fill:#262626;\" transform=\"translate(7.2 101.327362)scale(0.154 -0.154)\">\n       <defs>\n        <path d=\"M 49.75 54.046875 \nL 41.015625 53.375 \nQ 39.84375 58.546875 37.703125 60.890625 \nQ 34.125 64.65625 28.90625 64.65625 \nQ 24.703125 64.65625 21.53125 62.3125 \nQ 17.390625 59.28125 14.984375 53.46875 \nQ 12.59375 47.65625 12.5 36.921875 \nQ 15.671875 41.75 20.265625 44.09375 \nQ 24.859375 46.4375 29.890625 46.4375 \nQ 38.671875 46.4375 44.84375 39.96875 \nQ 51.03125 33.5 51.03125 23.25 \nQ 51.03125 16.5 48.125 10.71875 \nQ 45.21875 4.9375 40.140625 1.859375 \nQ 35.0625 -1.21875 28.609375 -1.21875 \nQ 17.625 -1.21875 10.6875 6.859375 \nQ 3.765625 14.9375 3.765625 33.5 \nQ 3.765625 54.25 11.421875 63.671875 \nQ 18.109375 71.875 29.4375 71.875 \nQ 37.890625 71.875 43.28125 67.140625 \nQ 48.6875 62.40625 49.75 54.046875 \nz\nM 13.875 23.1875 \nQ 13.875 18.65625 15.796875 14.5 \nQ 17.71875 10.359375 21.1875 8.171875 \nQ 24.65625 6 28.46875 6 \nQ 34.03125 6 38.03125 10.484375 \nQ 42.046875 14.984375 42.046875 22.703125 \nQ 42.046875 30.125 38.078125 34.390625 \nQ 34.125 38.671875 28.125 38.671875 \nQ 22.171875 38.671875 18.015625 34.390625 \nQ 13.875 30.125 13.875 23.1875 \nz\n\" id=\"ArialMT-54\"/>\n       </defs>\n       <use xlink:href=\"#ArialMT-54\"/>\n       <use x=\"55.615234\" xlink:href=\"#ArialMT-48\"/>\n       <use x=\"111.230469\" xlink:href=\"#ArialMT-48\"/>\n       <use x=\"166.845703\" xlink:href=\"#ArialMT-48\"/>\n      </g>\n     </g>\n    </g>\n    <g id=\"ytick_8\">\n     <g id=\"line2d_8\">\n      <path clip-path=\"url(#pac4aba8299)\" d=\"M 50.955375 56.225154 \nL 832.155375 56.225154 \n\" style=\"fill:none;stroke:#ffffff;stroke-linecap:round;\"/>\n     </g>\n     <g id=\"text_23\">\n      <!-- 7000 -->\n      <g style=\"fill:#262626;\" transform=\"translate(7.2 61.73667)scale(0.154 -0.154)\">\n       <defs>\n        <path d=\"M 4.734375 62.203125 \nL 4.734375 70.65625 \nL 51.078125 70.65625 \nL 51.078125 63.8125 \nQ 44.234375 56.546875 37.515625 44.484375 \nQ 30.8125 32.421875 27.15625 19.671875 \nQ 24.515625 10.6875 23.78125 0 \nL 14.75 0 \nQ 14.890625 8.453125 18.0625 20.40625 \nQ 21.234375 32.375 27.171875 43.484375 \nQ 33.109375 54.59375 39.796875 62.203125 \nz\n\" id=\"ArialMT-55\"/>\n       </defs>\n       <use xlink:href=\"#ArialMT-55\"/>\n       <use x=\"55.615234\" xlink:href=\"#ArialMT-48\"/>\n       <use x=\"111.230469\" xlink:href=\"#ArialMT-48\"/>\n       <use x=\"166.845703\" xlink:href=\"#ArialMT-48\"/>\n      </g>\n     </g>\n    </g>\n    <g id=\"ytick_9\">\n     <g id=\"line2d_9\">\n      <path clip-path=\"url(#pac4aba8299)\" d=\"M 50.955375 16.634462 \nL 832.155375 16.634462 \n\" style=\"fill:none;stroke:#ffffff;stroke-linecap:round;\"/>\n     </g>\n     <g id=\"text_24\">\n      <!-- 8000 -->\n      <g style=\"fill:#262626;\" transform=\"translate(7.2 22.145978)scale(0.154 -0.154)\">\n       <defs>\n        <path d=\"M 17.671875 38.8125 \nQ 12.203125 40.828125 9.5625 44.53125 \nQ 6.9375 48.25 6.9375 53.421875 \nQ 6.9375 61.234375 12.546875 66.546875 \nQ 18.171875 71.875 27.484375 71.875 \nQ 36.859375 71.875 42.578125 66.421875 \nQ 48.296875 60.984375 48.296875 53.171875 \nQ 48.296875 48.1875 45.671875 44.5 \nQ 43.0625 40.828125 37.75 38.8125 \nQ 44.34375 36.671875 47.78125 31.875 \nQ 51.21875 27.09375 51.21875 20.453125 \nQ 51.21875 11.28125 44.71875 5.03125 \nQ 38.234375 -1.21875 27.640625 -1.21875 \nQ 17.046875 -1.21875 10.546875 5.046875 \nQ 4.046875 11.328125 4.046875 20.703125 \nQ 4.046875 27.6875 7.59375 32.390625 \nQ 11.140625 37.109375 17.671875 38.8125 \nz\nM 15.921875 53.71875 \nQ 15.921875 48.640625 19.1875 45.40625 \nQ 22.46875 42.1875 27.6875 42.1875 \nQ 32.765625 42.1875 36.015625 45.375 \nQ 39.265625 48.578125 39.265625 53.21875 \nQ 39.265625 58.0625 35.90625 61.359375 \nQ 32.5625 64.65625 27.59375 64.65625 \nQ 22.5625 64.65625 19.234375 61.421875 \nQ 15.921875 58.203125 15.921875 53.71875 \nz\nM 13.09375 20.65625 \nQ 13.09375 16.890625 14.875 13.375 \nQ 16.65625 9.859375 20.171875 7.921875 \nQ 23.6875 6 27.734375 6 \nQ 34.03125 6 38.125 10.046875 \nQ 42.234375 14.109375 42.234375 20.359375 \nQ 42.234375 26.703125 38.015625 30.859375 \nQ 33.796875 35.015625 27.4375 35.015625 \nQ 21.234375 35.015625 17.15625 30.90625 \nQ 13.09375 26.8125 13.09375 20.65625 \nz\n\" id=\"ArialMT-56\"/>\n       </defs>\n       <use xlink:href=\"#ArialMT-56\"/>\n       <use x=\"55.615234\" xlink:href=\"#ArialMT-48\"/>\n       <use x=\"111.230469\" xlink:href=\"#ArialMT-48\"/>\n       <use x=\"166.845703\" xlink:href=\"#ArialMT-48\"/>\n      </g>\n     </g>\n    </g>\n   </g>\n   <g id=\"patch_3\">\n    <path clip-path=\"url(#pac4aba8299)\" d=\"M 56.163375 333.36 \nL 97.827375 333.36 \nL 97.827375 22.731429 \nL 56.163375 22.731429 \nz\n\" style=\"fill:#a5c5d8;stroke:#ffffff;stroke-linejoin:miter;\"/>\n   </g>\n   <g id=\"patch_4\">\n    <path clip-path=\"url(#pac4aba8299)\" d=\"M 108.243375 333.36 \nL 149.907375 333.36 \nL 149.907375 76.535179 \nL 108.243375 76.535179 \nz\n\" style=\"fill:#98bbd3;stroke:#ffffff;stroke-linejoin:miter;\"/>\n   </g>\n   <g id=\"patch_5\">\n    <path clip-path=\"url(#pac4aba8299)\" d=\"M 160.323375 333.36 \nL 201.987375 333.36 \nL 201.987375 183.905137 \nL 160.323375 183.905137 \nz\n\" style=\"fill:#8bb2cd;stroke:#ffffff;stroke-linejoin:miter;\"/>\n   </g>\n   <g id=\"patch_6\">\n    <path clip-path=\"url(#pac4aba8299)\" d=\"M 212.403375 333.36 \nL 254.067375 333.36 \nL 254.067375 190.200057 \nL 212.403375 190.200057 \nz\n\" style=\"fill:#7da9c7;stroke:#ffffff;stroke-linejoin:miter;\"/>\n   </g>\n   <g id=\"patch_7\">\n    <path clip-path=\"url(#pac4aba8299)\" d=\"M 264.483375 333.36 \nL 306.147375 333.36 \nL 306.147375 198.632874 \nL 264.483375 198.632874 \nz\n\" style=\"fill:#70a0c1;stroke:#ffffff;stroke-linejoin:miter;\"/>\n   </g>\n   <g id=\"patch_8\">\n    <path clip-path=\"url(#pac4aba8299)\" d=\"M 316.563375 333.36 \nL 358.227375 333.36 \nL 358.227375 232.839232 \nL 316.563375 232.839232 \nz\n\" style=\"fill:#6296bb;stroke:#ffffff;stroke-linejoin:miter;\"/>\n   </g>\n   <g id=\"patch_9\">\n    <path clip-path=\"url(#pac4aba8299)\" d=\"M 368.643375 333.36 \nL 410.307375 333.36 \nL 410.307375 238.777836 \nL 368.643375 238.777836 \nz\n\" style=\"fill:#558db5;stroke:#ffffff;stroke-linejoin:miter;\"/>\n   </g>\n   <g id=\"patch_10\">\n    <path clip-path=\"url(#pac4aba8299)\" d=\"M 420.723375 333.36 \nL 462.387375 333.36 \nL 462.387375 243.291175 \nL 420.723375 243.291175 \nz\n\" style=\"fill:#4884af;stroke:#ffffff;stroke-linejoin:miter;\"/>\n   </g>\n   <g id=\"patch_11\">\n    <path clip-path=\"url(#pac4aba8299)\" d=\"M 472.803375 333.36 \nL 514.467375 333.36 \nL 514.467375 249.902821 \nL 472.803375 249.902821 \nz\n\" style=\"fill:#457a9f;stroke:#ffffff;stroke-linejoin:miter;\"/>\n   </g>\n   <g id=\"patch_12\">\n    <path clip-path=\"url(#pac4aba8299)\" d=\"M 524.883375 333.36 \nL 566.547375 333.36 \nL 566.547375 272.15279 \nL 524.883375 272.15279 \nz\n\" style=\"fill:#436f90;stroke:#ffffff;stroke-linejoin:miter;\"/>\n   </g>\n   <g id=\"patch_13\">\n    <path clip-path=\"url(#pac4aba8299)\" d=\"M 576.963375 333.36 \nL 618.627375 333.36 \nL 618.627375 278.526891 \nL 576.963375 278.526891 \nz\n\" style=\"fill:#406580;stroke:#ffffff;stroke-linejoin:miter;\"/>\n   </g>\n   <g id=\"patch_14\">\n    <path clip-path=\"url(#pac4aba8299)\" d=\"M 629.043375 333.36 \nL 670.707375 333.36 \nL 670.707375 292.304452 \nL 629.043375 292.304452 \nz\n\" style=\"fill:#3d5b70;stroke:#ffffff;stroke-linejoin:miter;\"/>\n   </g>\n   <g id=\"patch_15\">\n    <path clip-path=\"url(#pac4aba8299)\" d=\"M 681.123375 333.36 \nL 722.787375 333.36 \nL 722.787375 296.065568 \nL 681.123375 296.065568 \nz\n\" style=\"fill:#3b5161;stroke:#ffffff;stroke-linejoin:miter;\"/>\n   </g>\n   <g id=\"patch_16\">\n    <path clip-path=\"url(#pac4aba8299)\" d=\"M 733.203375 333.36 \nL 774.867375 333.36 \nL 774.867375 298.163875 \nL 733.203375 298.163875 \nz\n\" style=\"fill:#384751;stroke:#ffffff;stroke-linejoin:miter;\"/>\n   </g>\n   <g id=\"patch_17\">\n    <path clip-path=\"url(#pac4aba8299)\" d=\"M 785.283375 333.36 \nL 826.947375 333.36 \nL 826.947375 301.449902 \nL 785.283375 301.449902 \nz\n\" style=\"fill:#353d42;stroke:#ffffff;stroke-linejoin:miter;\"/>\n   </g>\n   <g id=\"line2d_10\">\n    <path clip-path=\"url(#pac4aba8299)\" d=\"M 0 0 \n\" style=\"fill:none;stroke:#424242;stroke-linecap:round;stroke-width:2.7;\"/>\n   </g>\n   <g id=\"line2d_11\">\n    <path clip-path=\"url(#pac4aba8299)\" d=\"M 0 0 \n\" style=\"fill:none;stroke:#424242;stroke-linecap:round;stroke-width:2.7;\"/>\n   </g>\n   <g id=\"line2d_12\">\n    <path clip-path=\"url(#pac4aba8299)\" d=\"M 0 0 \n\" style=\"fill:none;stroke:#424242;stroke-linecap:round;stroke-width:2.7;\"/>\n   </g>\n   <g id=\"line2d_13\">\n    <path clip-path=\"url(#pac4aba8299)\" d=\"M 0 0 \n\" style=\"fill:none;stroke:#424242;stroke-linecap:round;stroke-width:2.7;\"/>\n   </g>\n   <g id=\"line2d_14\">\n    <path clip-path=\"url(#pac4aba8299)\" d=\"M 0 0 \n\" style=\"fill:none;stroke:#424242;stroke-linecap:round;stroke-width:2.7;\"/>\n   </g>\n   <g id=\"line2d_15\">\n    <path clip-path=\"url(#pac4aba8299)\" d=\"M 0 0 \n\" style=\"fill:none;stroke:#424242;stroke-linecap:round;stroke-width:2.7;\"/>\n   </g>\n   <g id=\"line2d_16\">\n    <path clip-path=\"url(#pac4aba8299)\" d=\"M 0 0 \n\" style=\"fill:none;stroke:#424242;stroke-linecap:round;stroke-width:2.7;\"/>\n   </g>\n   <g id=\"line2d_17\">\n    <path clip-path=\"url(#pac4aba8299)\" d=\"M 0 0 \n\" style=\"fill:none;stroke:#424242;stroke-linecap:round;stroke-width:2.7;\"/>\n   </g>\n   <g id=\"line2d_18\">\n    <path clip-path=\"url(#pac4aba8299)\" d=\"M 0 0 \n\" style=\"fill:none;stroke:#424242;stroke-linecap:round;stroke-width:2.7;\"/>\n   </g>\n   <g id=\"line2d_19\">\n    <path clip-path=\"url(#pac4aba8299)\" d=\"M 0 0 \n\" style=\"fill:none;stroke:#424242;stroke-linecap:round;stroke-width:2.7;\"/>\n   </g>\n   <g id=\"line2d_20\">\n    <path clip-path=\"url(#pac4aba8299)\" d=\"M 0 0 \n\" style=\"fill:none;stroke:#424242;stroke-linecap:round;stroke-width:2.7;\"/>\n   </g>\n   <g id=\"line2d_21\">\n    <path clip-path=\"url(#pac4aba8299)\" d=\"M 0 0 \n\" style=\"fill:none;stroke:#424242;stroke-linecap:round;stroke-width:2.7;\"/>\n   </g>\n   <g id=\"line2d_22\">\n    <path clip-path=\"url(#pac4aba8299)\" d=\"M 0 0 \n\" style=\"fill:none;stroke:#424242;stroke-linecap:round;stroke-width:2.7;\"/>\n   </g>\n   <g id=\"line2d_23\">\n    <path clip-path=\"url(#pac4aba8299)\" d=\"M 0 0 \n\" style=\"fill:none;stroke:#424242;stroke-linecap:round;stroke-width:2.7;\"/>\n   </g>\n   <g id=\"line2d_24\">\n    <path clip-path=\"url(#pac4aba8299)\" d=\"M 0 0 \n\" style=\"fill:none;stroke:#424242;stroke-linecap:round;stroke-width:2.7;\"/>\n   </g>\n   <g id=\"patch_18\">\n    <path d=\"M 50.955375 333.36 \nL 50.955375 7.2 \n\" style=\"fill:none;stroke:#ffffff;stroke-linecap:square;stroke-linejoin:miter;stroke-width:1.25;\"/>\n   </g>\n   <g id=\"patch_19\">\n    <path d=\"M 832.155375 333.36 \nL 832.155375 7.2 \n\" style=\"fill:none;stroke:#ffffff;stroke-linecap:square;stroke-linejoin:miter;stroke-width:1.25;\"/>\n   </g>\n   <g id=\"patch_20\">\n    <path d=\"M 50.955375 333.36 \nL 832.155375 333.36 \n\" style=\"fill:none;stroke:#ffffff;stroke-linecap:square;stroke-linejoin:miter;stroke-width:1.25;\"/>\n   </g>\n   <g id=\"patch_21\">\n    <path d=\"M 50.955375 7.2 \nL 832.155375 7.2 \n\" style=\"fill:none;stroke:#ffffff;stroke-linecap:square;stroke-linejoin:miter;stroke-width:1.25;\"/>\n   </g>\n  </g>\n </g>\n <defs>\n  <clipPath id=\"pac4aba8299\">\n   <rect height=\"326.16\" width=\"781.2\" x=\"50.955375\" y=\"7.2\"/>\n  </clipPath>\n </defs>\n</svg>\n",
      "image/png": "[encoded data removed]"
     },
     "metadata": {}
    }
   ],
   "source": [
    "sns.set_theme(style=\"whitegrid\")\n",
    "sns.set(font_scale=1.4)\n",
    "plt.figure(figsize=(14,6))\n",
    "_ = sns.barplot(x=list(X), y=list(Y), palette=\"Blues_d\")"
   ]
  },
  {
   "cell_type": "code",
   "execution_count": null,
   "metadata": {},
   "outputs": [],
   "source": []
  }
 ]
}