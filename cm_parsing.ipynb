{
 "metadata": {
  "language_info": {
   "codemirror_mode": {
    "name": "ipython",
    "version": 3
   },
   "file_extension": ".py",
   "mimetype": "text/x-python",
   "name": "python",
   "nbconvert_exporter": "python",
   "pygments_lexer": "ipython3",
   "version": "3.7.8-final"
  },
  "orig_nbformat": 2,
  "kernelspec": {
   "name": "python_defaultSpec_1599328764504",
   "display_name": "Python 3.7.8 64-bit"
  }
 },
 "nbformat": 4,
 "nbformat_minor": 2,
 "cells": [
  {
   "cell_type": "code",
   "execution_count": 1,
   "metadata": {},
   "outputs": [],
   "source": [
    "import bashlex # parsing library #1\n",
    "import bashlint # parsing library #2\n",
    "from collections import Counter, OrderedDict\n",
    "from pprint import pprint"
   ]
  },
  {
   "cell_type": "code",
   "execution_count": 2,
   "metadata": {},
   "outputs": [],
   "source": [
    "with open(r'nl2bash/data/bash/all.cm', encoding='utf-8') as f:\n",
    "    data = f.readlines()"
   ]
  },
  {
   "cell_type": "markdown",
   "metadata": {},
   "source": [
    "## Playing with `bashlex` functions"
   ]
  },
  {
   "cell_type": "code",
   "execution_count": 3,
   "metadata": {},
   "outputs": [
    {
     "output_type": "execute_result",
     "data": {
      "text/plain": "['__builtins__',\n '__cached__',\n '__doc__',\n '__file__',\n '__loader__',\n '__name__',\n '__package__',\n '__path__',\n '__spec__',\n 'ast',\n 'errors',\n 'flags',\n 'heredoc',\n 'parse',\n 'parser',\n 'parsesingle',\n 'parsetab',\n 'shutils',\n 'split',\n 'state',\n 'subst',\n 'tokenizer',\n 'utils',\n 'yacc']"
     },
     "metadata": {},
     "execution_count": 3
    }
   ],
   "source": [
    "dir(bashlex)"
   ]
  },
  {
   "cell_type": "code",
   "execution_count": 4,
   "metadata": {
    "tags": []
   },
   "outputs": [
    {
     "output_type": "stream",
     "name": "stdout",
     "text": "top -b -d2 -s1 | sed -e '1,/USERNAME/d' | sed -e '1,/^$/d'\n\n['top', '-b', '-d2', '-s1', '|', 'sed', '-e', '1,/USERNAME/d', '|', 'sed', '-e', '1,/^$/d', '\\n']\n"
    }
   ],
   "source": [
    "print(data[0])\n",
    "print(list(bashlex.split(data[0]))) # splitting first command to elements"
   ]
  },
  {
   "cell_type": "code",
   "execution_count": 5,
   "metadata": {
    "tags": []
   },
   "outputs": [
    {
     "output_type": "stream",
     "name": "stdout",
     "text": "<class 'list'>\n"
    },
    {
     "output_type": "execute_result",
     "data": {
      "text/plain": "1"
     },
     "metadata": {},
     "execution_count": 5
    }
   ],
   "source": [
    "tp = bashlex.parse(data[0]) # parsing first command \n",
    "print(type(tp))\n",
    "len(tp)"
   ]
  },
  {
   "cell_type": "code",
   "execution_count": 6,
   "metadata": {
    "tags": []
   },
   "outputs": [
    {
     "output_type": "stream",
     "name": "stdout",
     "text": "<class 'bashlex.ast.node'>\n"
    },
    {
     "output_type": "execute_result",
     "data": {
      "text/plain": "PipelineNode(parts=[CommandNode(parts=[WordNode(parts=[] pos=(0, 3) word='top'), WordNode(parts=[] pos=(4, 6) word='-b'), WordNode(parts=[] pos=(7, 10) word='-d2'), WordNode(parts=[] pos=(11, 14) word='-s1')] pos=(0, 14)), PipeNode(pipe='|' pos=(15, 16)), CommandNode(parts=[WordNode(parts=[] pos=(17, 20) word='sed'), WordNode(parts=[] pos=(21, 23) word='-e'), WordNode(parts=[] pos=(24, 39) word='1,/USERNAME/d')] pos=(17, 39)), PipeNode(pipe='|' pos=(40, 41)), CommandNode(parts=[WordNode(parts=[] pos=(42, 45) word='sed'), WordNode(parts=[] pos=(46, 48) word='-e'), WordNode(parts=[] pos=(49, 58) word='1,/^$/d')] pos=(42, 58))] pos=(0, 58))"
     },
     "metadata": {},
     "execution_count": 6
    }
   ],
   "source": [
    "print(type(tp[0]))\n",
    "tp[0]"
   ]
  },
  {
   "cell_type": "code",
   "execution_count": 7,
   "metadata": {
    "tags": []
   },
   "outputs": [
    {
     "output_type": "execute_result",
     "data": {
      "text/plain": "['__weakref__', 'dump', 'kind', 'parts', 'pos']"
     },
     "metadata": {},
     "execution_count": 7
    }
   ],
   "source": [
    "dir(tp[0])[-5:] # only few methods"
   ]
  },
  {
   "cell_type": "code",
   "execution_count": 8,
   "metadata": {
    "tags": []
   },
   "outputs": [
    {
     "output_type": "stream",
     "name": "stdout",
     "text": "PipelineNode(pos=(0, 58), parts=[\n  CommandNode(pos=(0, 14), parts=[\n    WordNode(pos=(0, 3), word='top'),\n    WordNode(pos=(4, 6), word='-b'),\n    WordNode(pos=(7, 10), word='-d2'),\n    WordNode(pos=(11, 14), word='-s1'),\n  ]),\n  PipeNode(pipe='|', pos=(15, 16)),\n  CommandNode(pos=(17, 39), parts=[\n    WordNode(pos=(17, 20), word='sed'),\n    WordNode(pos=(21, 23), word='-e'),\n    WordNode(pos=(24, 39), word='1,/USERNAME/d'),\n  ]),\n  PipeNode(pipe='|', pos=(40, 41)),\n  CommandNode(pos=(42, 58), parts=[\n    WordNode(pos=(42, 45), word='sed'),\n    WordNode(pos=(46, 48), word='-e'),\n    WordNode(pos=(49, 58), word='1,/^$/d'),\n  ]),\n])\n"
    }
   ],
   "source": [
    "print(tp[0].dump()) # dump allows to observe parts in pretty way"
   ]
  },
  {
   "cell_type": "markdown",
   "metadata": {},
   "source": [
    "`CommandNode` - have set of specific command elements  \n",
    "`PipeNode` - separators  \n",
    "`WordNode` - element of CommandNode"
   ]
  },
  {
   "cell_type": "code",
   "execution_count": 9,
   "metadata": {
    "tags": []
   },
   "outputs": [
    {
     "output_type": "stream",
     "name": "stdout",
     "text": "[CommandNode(parts=[WordNode(parts=[] pos=(0, 3) word='top'), WordNode(parts=[] pos=(4, 6) word='-b'), WordNode(parts=[] pos=(7, 10) word='-d2'), WordNode(parts=[] pos=(11, 14) word='-s1')] pos=(0, 14)), PipeNode(pipe='|' pos=(15, 16)), CommandNode(parts=[WordNode(parts=[] pos=(17, 20) word='sed'), WordNode(parts=[] pos=(21, 23) word='-e'), WordNode(parts=[] pos=(24, 39) word='1,/USERNAME/d')] pos=(17, 39)), PipeNode(pipe='|' pos=(40, 41)), CommandNode(parts=[WordNode(parts=[] pos=(42, 45) word='sed'), WordNode(parts=[] pos=(46, 48) word='-e'), WordNode(parts=[] pos=(49, 58) word='1,/^$/d')] pos=(42, 58))]\n"
    },
    {
     "output_type": "execute_result",
     "data": {
      "text/plain": "(0, 58)"
     },
     "metadata": {},
     "execution_count": 9
    }
   ],
   "source": [
    "print(tp[0].parts) # returns all the pipeline parts in list\n",
    "tp[0].pos # displays position of this specific element in original string"
   ]
  },
  {
   "cell_type": "code",
   "execution_count": 10,
   "metadata": {
    "tags": []
   },
   "outputs": [
    {
     "output_type": "stream",
     "name": "stdout",
     "text": "for a in `find . -name '*.py'` ; do cp \"$a\" \"$a.cp\" ; echo \"Added line\" > \"$a\" ; cat \"$a.cp\" >> \"$a\" ; rm \"$a.cp\" ; done\n\n"
    },
    {
     "output_type": "execute_result",
     "data": {
      "text/plain": "['for',\n 'a',\n 'in',\n \"`find . -name '*.py'`\",\n ';',\n 'do',\n 'cp',\n '$a',\n '$a.cp',\n ';',\n 'echo',\n 'Added line',\n '>',\n '$a',\n ';',\n 'cat',\n '$a.cp',\n '>>',\n '$a',\n ';',\n 'rm',\n '$a.cp',\n ';',\n 'done',\n '\\n']"
     },
     "metadata": {},
     "execution_count": 10
    }
   ],
   "source": [
    "print(data[48]) # test on more complex command\n",
    "\n",
    "list(bashlex.split(data[48]))"
   ]
  },
  {
   "cell_type": "code",
   "execution_count": 11,
   "metadata": {
    "tags": []
   },
   "outputs": [
    {
     "output_type": "stream",
     "name": "stdout",
     "text": "1\nCompoundNode(list=[\n  ForNode(pos=(0, 120), parts=[\n    ReservedwordNode(pos=(0, 3), word='for'),\n    WordNode(pos=(4, 5), word='a'),\n    ReservedwordNode(pos=(6, 8), word='in'),\n    WordNode(pos=(9, 30), word=\"`find . -name '*.py'`\", parts=[\n      CommandsubstitutionNode(command=\n        CommandNode(pos=(10, 29), parts=[\n          WordNode(pos=(10, 14), word='find'),\n          WordNode(pos=(15, 16), word='.'),\n          WordNode(pos=(17, 22), word='-name'),\n          WordNode(pos=(23, 29), word='*.py'),\n        ]), pos=(9, 30)),\n    ]),\n    ReservedwordNode(pos=(31, 32), word=';'),\n    ReservedwordNode(pos=(33, 35), word='do'),\n    ListNode(pos=(36, 115), parts=[\n        CommandNode(pos=(36, 51), parts=[\n          WordNode(pos=(36, 38), word='cp'),\n          WordNode(pos=(39, 43), word='$a', parts=[\n            ParameterNode(pos=(40, 42), value='a'),\n          ]),\n          WordNode(pos=(44, 51), word='$a.cp', parts=[\n            ParameterNode(pos=(45, 47), value='a'),\n          ]),\n        ]),\n        OperatorNode(op=';', pos=(52, 53)),\n        CommandNode(pos=(54, 78), parts=[\n          WordNode(pos=(54, 58), word='echo'),\n          WordNode(pos=(59, 71), word='Added line'),\n          RedirectNode(output=\n            WordNode(pos=(74, 78), word='$a', parts=[\n              ParameterNode(pos=(75, 77), value='a'),\n            ]), pos=(72, 78), type='>'),\n        ]),\n        OperatorNode(op=';', pos=(79, 80)),\n        CommandNode(pos=(81, 100), parts=[\n          WordNode(pos=(81, 84), word='cat'),\n          WordNode(pos=(85, 92), word='$a.cp', parts=[\n            ParameterNode(pos=(86, 88), value='a'),\n          ]),\n          RedirectNode(output=\n            WordNode(pos=(96, 100), word='$a', parts=[\n              ParameterNode(pos=(97, 99), value='a'),\n            ]), pos=(93, 100), type='>>'),\n        ]),\n        OperatorNode(op=';', pos=(101, 102)),\n        CommandNode(pos=(103, 113), parts=[\n          WordNode(pos=(103, 105), word='rm'),\n          WordNode(pos=(106, 113), word='$a.cp', parts=[\n            ParameterNode(pos=(107, 109), value='a'),\n          ]),\n        ]),\n        OperatorNode(op=';', pos=(114, 115)),\n      ]),\n    ReservedwordNode(pos=(116, 120), word='done'),\n  ]),\n], pos=(0, 120))\n"
    }
   ],
   "source": [
    "tp2 = bashlex.parse(data[48])\n",
    "print(len(tp2))\n",
    "print(tp2[0].dump())"
   ]
  },
  {
   "cell_type": "code",
   "execution_count": 12,
   "metadata": {
    "tags": []
   },
   "outputs": [
    {
     "output_type": "stream",
     "name": "stdout",
     "text": "ForNode(pos=(0, 120), parts=[\n  ReservedwordNode(pos=(0, 3), word='for'),\n  WordNode(pos=(4, 5), word='a'),\n  ReservedwordNode(pos=(6, 8), word='in'),\n  WordNode(pos=(9, 30), word=\"`find . -name '*.py'`\", parts=[\n    CommandsubstitutionNode(command=\n      CommandNode(pos=(10, 29), parts=[\n        WordNode(pos=(10, 14), word='find'),\n        WordNode(pos=(15, 16), word='.'),\n        WordNode(pos=(17, 22), word='-name'),\n        WordNode(pos=(23, 29), word='*.py'),\n      ]), pos=(9, 30)),\n  ]),\n  ReservedwordNode(pos=(31, 32), word=';'),\n  ReservedwordNode(pos=(33, 35), word='do'),\n  ListNode(pos=(36, 115), parts=[\n      CommandNode(pos=(36, 51), parts=[\n        WordNode(pos=(36, 38), word='cp'),\n        WordNode(pos=(39, 43), word='$a', parts=[\n          ParameterNode(pos=(40, 42), value='a'),\n        ]),\n        WordNode(pos=(44, 51), word='$a.cp', parts=[\n          ParameterNode(pos=(45, 47), value='a'),\n        ]),\n      ]),\n      OperatorNode(op=';', pos=(52, 53)),\n      CommandNode(pos=(54, 78), parts=[\n        WordNode(pos=(54, 58), word='echo'),\n        WordNode(pos=(59, 71), word='Added line'),\n        RedirectNode(output=\n          WordNode(pos=(74, 78), word='$a', parts=[\n            ParameterNode(pos=(75, 77), value='a'),\n          ]), pos=(72, 78), type='>'),\n      ]),\n      OperatorNode(op=';', pos=(79, 80)),\n      CommandNode(pos=(81, 100), parts=[\n        WordNode(pos=(81, 84), word='cat'),\n        WordNode(pos=(85, 92), word='$a.cp', parts=[\n          ParameterNode(pos=(86, 88), value='a'),\n        ]),\n        RedirectNode(output=\n          WordNode(pos=(96, 100), word='$a', parts=[\n            ParameterNode(pos=(97, 99), value='a'),\n          ]), pos=(93, 100), type='>>'),\n      ]),\n      OperatorNode(op=';', pos=(101, 102)),\n      CommandNode(pos=(103, 113), parts=[\n        WordNode(pos=(103, 105), word='rm'),\n        WordNode(pos=(106, 113), word='$a.cp', parts=[\n          ParameterNode(pos=(107, 109), value='a'),\n        ]),\n      ]),\n      OperatorNode(op=';', pos=(114, 115)),\n    ]),\n  ReservedwordNode(pos=(116, 120), word='done'),\n])\n"
    }
   ],
   "source": [
    "print(tp2[0].list[0].dump())"
   ]
  },
  {
   "cell_type": "code",
   "execution_count": 13,
   "metadata": {
    "tags": []
   },
   "outputs": [
    {
     "output_type": "stream",
     "name": "stdout",
     "text": "True\nTrue\n"
    }
   ],
   "source": [
    "print(isinstance(tp2,(list,dict))) # check of isinstance\n",
    "print(isinstance(tp2[0],(bashlex.ast.node)))"
   ]
  },
  {
   "cell_type": "code",
   "execution_count": 14,
   "metadata": {},
   "outputs": [
    {
     "output_type": "execute_result",
     "data": {
      "text/plain": "[ForNode(parts=[ReservedwordNode(pos=(0, 3) word='for'), WordNode(parts=[] pos=(4, 5) word='a'), ReservedwordNode(pos=(6, 8) word='in'), WordNode(parts=[CommandsubstitutionNode(command=CommandNode(parts=[WordNode(parts=[] pos=(10, 14) word='find'), WordNode(parts=[] pos=(15, 16) word='.'), WordNode(parts=[] pos=(17, 22) word='-name'), WordNode(parts=[] pos=(23, 29) word='*.py')] pos=(10, 29)) pos=(9, 30))] pos=(9, 30) word=\"`find . -name '*.py'`\"), ReservedwordNode(pos=(31, 32) word=';'), ReservedwordNode(pos=(33, 35) word='do'), ListNode(parts=[CommandNode(parts=[WordNode(parts=[] pos=(36, 38) word='cp'), WordNode(parts=[ParameterNode(pos=(40, 42) value='a')] pos=(39, 43) word='$a'), WordNode(parts=[ParameterNode(pos=(45, 47) value='a')] pos=(44, 51) word='$a.cp')] pos=(36, 51)), OperatorNode(op=';' pos=(52, 53)), CommandNode(parts=[WordNode(parts=[] pos=(54, 58) word='echo'), WordNode(parts=[] pos=(59, 71) word='Added line'), RedirectNode(heredoc=None input=None output=WordNode(parts=[ParameterNode(pos=(75, 77) value='a')] pos=(74, 78) word='$a') pos=(72, 78) type='>')] pos=(54, 78)), OperatorNode(op=';' pos=(79, 80)), CommandNode(parts=[WordNode(parts=[] pos=(81, 84) word='cat'), WordNode(parts=[ParameterNode(pos=(86, 88) value='a')] pos=(85, 92) word='$a.cp'), RedirectNode(heredoc=None input=None output=WordNode(parts=[ParameterNode(pos=(97, 99) value='a')] pos=(96, 100) word='$a') pos=(93, 100) type='>>')] pos=(81, 100)), OperatorNode(op=';' pos=(101, 102)), CommandNode(parts=[WordNode(parts=[] pos=(103, 105) word='rm'), WordNode(parts=[ParameterNode(pos=(107, 109) value='a')] pos=(106, 113) word='$a.cp')] pos=(103, 113)), OperatorNode(op=';' pos=(114, 115))] pos=(36, 115)), ReservedwordNode(pos=(116, 120) word='done')] pos=(0, 120))]"
     },
     "metadata": {},
     "execution_count": 14
    }
   ],
   "source": [
    "tp2[0].list"
   ]
  },
  {
   "cell_type": "markdown",
   "metadata": {},
   "source": [
    "### Iterate until get all basic elements\n",
    "\n",
    "Output of `bashlex.parse()` is list.  \n",
    "List has elements of `bashlex.ast.node` which may have either `list`, `parts` or `command` properties (at least figured those two by now) that contain next elements."
   ]
  },
  {
   "cell_type": "code",
   "execution_count": 15,
   "metadata": {
    "tags": []
   },
   "outputs": [],
   "source": [
    "def iterate_bashlex(input_object):\n",
    "    output = Counter()\n",
    "    if isinstance(input_object, list):\n",
    "        for element in input_object:\n",
    "            output += iterate_bashlex(element)\n",
    "    elif isinstance(input_object, bashlex.ast.node):\n",
    "        object_methods = [x for x in dir(input_object) if '__' not in x]\n",
    "        if 'command' in object_methods:\n",
    "            output += iterate_bashlex(input_object.command)\n",
    "        elif 'list' in object_methods:\n",
    "            for element in input_object.list:\n",
    "                output += iterate_bashlex(element)\n",
    "        elif 'parts' in object_methods:        \n",
    "            if input_object.parts:\n",
    "                for part in input_object.parts:\n",
    "                    output += iterate_bashlex(part)\n",
    "            else:\n",
    "                output[input_object.word] += 1\n",
    "        elif 'word' in object_methods:\n",
    "            output[input_object.word] += 1\n",
    "    return output"
   ]
  },
  {
   "cell_type": "code",
   "execution_count": 16,
   "metadata": {
    "tags": []
   },
   "outputs": [
    {
     "output_type": "stream",
     "name": "stdout",
     "text": "Counter({'for': 1, 'a': 1, 'in': 1, 'find': 1, '.': 1, '-name': 1, '*.py': 1, ';': 1, 'do': 1, 'cp': 1, 'echo': 1, 'Added line': 1, 'cat': 1, 'rm': 1, 'done': 1})\n"
    }
   ],
   "source": [
    "for nodes in tp2:\n",
    "    token_dict = iterate_bashlex(nodes)\n",
    "print(token_dict)"
   ]
  },
  {
   "cell_type": "markdown",
   "metadata": {},
   "source": [
    "### Testing on full corpus"
   ]
  },
  {
   "cell_type": "code",
   "execution_count": 17,
   "metadata": {
    "tags": []
   },
   "outputs": [
    {
     "output_type": "stream",
     "name": "stdout",
     "text": "{'top': 10, '-b': 5, '-d2': 1, '-s1': 1, 'sed': 4, '-e': 2, '1,/USERNAME/d': 1, '1,/^$/d': 1, '-n': 4, '1': 2, '-u': 1, 'abc': 1, 'awk': 3, 'NR>7 { sum += $9; } END { print sum; }': 1, '-d': 1, '5': 1, '2': 1, '$1 == \"PID\" {block_num++; next} block_num == 2 {sum += $9;} END {print sum}': 1, '-bn1': 3, 'grep': 3, 'zombie': 2, '/Cpu/p': 1, '{print $4\" \"$6\" \"$8\" \"$10}': 1, '-n1': 3, '-c': 1, 'processname': 1, 's/\\\\(.*\\\\)$/\\\\1__CUSTOM_LINE_MARKER/g': 1}\n"
    }
   ],
   "source": [
    "# testing bashlex functions with lists\n",
    "alldict = Counter()\n",
    "for command in data[0:10]:\n",
    "    for node in bashlex.parse(command):\n",
    "        alldict += iterate_bashlex(node)\n",
    "print(dict(alldict))"
   ]
  },
  {
   "cell_type": "code",
   "execution_count": 19,
   "metadata": {
    "tags": []
   },
   "outputs": [
    {
     "output_type": "stream",
     "name": "stdout",
     "text": "Parsing errors encountered on 1.01 % of data.\n"
    }
   ],
   "source": [
    "# trying on all data\n",
    "alldict = Counter()\n",
    "errors = 0\n",
    "for i,command in enumerate(data):\n",
    "    print(f'{i}/{len(data)}',end='\\r')\n",
    "    try:\n",
    "        for node in bashlex.parse(command):\n",
    "            alldict += iterate_bashlex(node)\n",
    "    except bashlex.errors.ParsingError as ex:\n",
    "        #print(command, ex)\n",
    "        errors += 1\n",
    "    except NotImplementedError as ex:\n",
    "        #print(command, ex)\n",
    "        errors += 1\n",
    "    except TypeError as ex:\n",
    "        #print(command, ex)\n",
    "        errors += 1\n",
    "\n",
    "print(f'Parsing errors encountered on {errors*100/len(data):.2f} % of data.')"
   ]
  },
  {
   "cell_type": "code",
   "execution_count": 23,
   "metadata": {},
   "outputs": [
    {
     "output_type": "execute_result",
     "data": {
      "text/plain": "8724"
     },
     "metadata": {},
     "execution_count": 23
    }
   ],
   "source": [
    "# unique elements\n",
    "len(alldict)"
   ]
  },
  {
   "cell_type": "code",
   "execution_count": 25,
   "metadata": {
    "tags": []
   },
   "outputs": [
    {
     "output_type": "stream",
     "name": "stdout",
     "text": "1950\n1074\n"
    }
   ],
   "source": [
    "# only ~2k unique elements appear more than 3 times\n",
    "print(len({k:v for k,v in alldict.items() if v >= 3})) \n",
    "# only ~1k unique elements appear more than 5 times\n",
    "print(len({k:v for k,v in alldict.items() if v >= 5})) "
   ]
  },
  {
   "cell_type": "code",
   "execution_count": 26,
   "metadata": {},
   "outputs": [
    {
     "output_type": "execute_result",
     "data": {
      "text/plain": "[('find', 7747),\n ('.', 3728),\n ('-name', 3563),\n ('-type', 3354),\n ('f', 2438),\n ('{}', 2274),\n ('-exec', 2086),\n (';', 1823),\n ('xargs', 1523),\n ('grep', 1333),\n ('-print', 927),\n ('d', 848),\n ('/', 778),\n ('1', 740),\n ('-print0', 725),\n ('sort', 704),\n ('-o', 667),\n ('-l', 655),\n ('sed', 611),\n ('rm', 611)]"
     },
     "metadata": {},
     "execution_count": 26
    }
   ],
   "source": [
    "# 20 elements with highest counts\n",
    "alldict.most_common(20)"
   ]
  }
 ]
}